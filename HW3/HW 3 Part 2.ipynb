{
 "cells": [
  {
   "cell_type": "markdown",
   "metadata": {},
   "source": [
    "This is the second test - a test of proportions to determine whether those in the program group have a higher level of employment in unsubsidized jobs, three years after completing the program."
   ]
  },
  {
   "cell_type": "code",
   "execution_count": 9,
   "metadata": {
    "collapsed": true
   },
   "outputs": [],
   "source": [
    "import numpy as np\n",
    "\n",
    "alpha=0.05\n",
    "P_0=0.521\n",
    "P_1=0.533\n",
    "\n",
    "n_0=409\n",
    "n_1=564"
   ]
  },
  {
   "cell_type": "code",
   "execution_count": 10,
   "metadata": {
    "collapsed": false,
    "scrolled": true
   },
   "outputs": [
    {
     "name": "stdout",
     "output_type": "stream",
     "text": [
      "0.527955806783\n"
     ]
    }
   ],
   "source": [
    "sp=(P_0*n_0+P_1*n_1)/(n_1+n_0)\n",
    "print sp"
   ]
  },
  {
   "cell_type": "code",
   "execution_count": 11,
   "metadata": {
    "collapsed": false
   },
   "outputs": [
    {
     "name": "stdout",
     "output_type": "stream",
     "text": [
      "0.521 409 0.533 564 0.0160151200397\n"
     ]
    }
   ],
   "source": [
    "sp_stdev= lambda p, n: np.sqrt(p*(1-p)/n)\n",
    "\n",
    "sp_stdev_3y=sp_stdev(P_0,n_0+n_1)\n",
    "print P_0, n_0, P_1, n_1, sp_stdev_3y"
   ]
  },
  {
   "cell_type": "code",
   "execution_count": 12,
   "metadata": {
    "collapsed": false,
    "scrolled": true
   },
   "outputs": [
    {
     "name": "stdout",
     "output_type": "stream",
     "text": [
      "0.749291917278\n"
     ]
    }
   ],
   "source": [
    "zscore = lambda p0, p1, s : (p0-p1)/s\n",
    "z_3y = zscore(P_1, P_0, sp_stdev_3y)\n",
    "print z_3y"
   ]
  },
  {
   "cell_type": "markdown",
   "metadata": {},
   "source": [
    "Based on this observed z score, I looked on table and found P = 0.7734 for z score = .75 and alpha = .05"
   ]
  },
  {
   "cell_type": "markdown",
   "metadata": {},
   "source": [
    "The next step is to find the p value to which this z score correlates, by taking the inverse of the P above."
   ]
  },
  {
   "cell_type": "code",
   "execution_count": 13,
   "metadata": {
    "collapsed": false
   },
   "outputs": [
    {
     "name": "stdout",
     "output_type": "stream",
     "text": [
      "0.2266\n"
     ]
    }
   ],
   "source": [
    "p_3y=1-.7734\n",
    "print p_3y"
   ]
  },
  {
   "cell_type": "code",
   "execution_count": 14,
   "metadata": {
    "collapsed": false,
    "scrolled": true
   },
   "outputs": [
    {
     "name": "stdout",
     "output_type": "stream",
     "text": [
      "Is the p value 0.23 smaller than the critical value 0.05? \n",
      "NO!\n",
      "the Null hypothesis is not rejected\n"
     ]
    }
   ],
   "source": [
    "def report_result(p,a):\n",
    "    print 'Is the p value {0:.2f} smaller than the critical value {1:.2f}? '.format(p,a)\n",
    "    if p<a:\n",
    "        print \"YES!\"\n",
    "    else: print \"NO!\"\n",
    "    \n",
    "    print 'the Null hypothesis is {}'.format( 'rejected' if p<a  else 'not rejected') \n",
    "\n",
    " \n",
    "report_result(p_3y,alpha)"
   ]
  },
  {
   "cell_type": "markdown",
   "metadata": {},
   "source": [
    "This statistical test shows that we cannot reject the null hypothesis, meaning there is not statistically significant evidence of greater employment three years after progam completion."
   ]
  },
  {
   "cell_type": "markdown",
   "metadata": {},
   "source": [
    "The next test is a chi-square test to see if employment is higher six quarters later for those who completed the program (the test sample)."
   ]
  },
  {
   "cell_type": "markdown",
   "metadata": {},
   "source": [
    "|employed in subsidized job |     employed   | not employes   |                   \n",
    "|---------------------------|----------------|------------------|---------------------------|\n",
    "| test sample               |  $14.7 * 0.01 * 564 = 82.9$ |   $85.3 * 0.01 * 564 = 481.1$  | 564                       |\n",
    "| control sample            |  $11.9 * 0.01 * 409 = 48.7$ |   $88.1 * 0.01 * 409 = 360.3$   | 409                       |\n",
    "|                           |                |                  |                           |\n",
    "| total                     |    131.6    |     841.4     | 973         |"
   ]
  },
  {
   "cell_type": "code",
   "execution_count": 15,
   "metadata": {
    "collapsed": false,
    "scrolled": true
   },
   "outputs": [
    {
     "name": "stdout",
     "output_type": "stream",
     "text": [
      "1.58917936772\n"
     ]
    }
   ],
   "source": [
    "Ntot = 973\n",
    "expected = 564*131.6*409*841.4\n",
    "sample_values = [[14.7*5.64,85.3*5.64],[11.9*4.09,88.1*4.09]]\n",
    " \n",
    "chisqstat= lambda N, values, expect : N*((values[0][0]*values[1][1]-values[0][1]*values[1][0])**2)/(expect)\n",
    "\n",
    "chisq = chisqstat(Ntot,  sample_values, expected)\n",
    "\n",
    "print chisq"
   ]
  },
  {
   "cell_type": "markdown",
   "metadata": {},
   "source": [
    "critical value for 1 deree of freedom and alpha = .05 is 3.84"
   ]
  },
  {
   "cell_type": "code",
   "execution_count": 16,
   "metadata": {
    "collapsed": false
   },
   "outputs": [],
   "source": [
    "chisqcrit=3.84"
   ]
  },
  {
   "cell_type": "code",
   "execution_count": 17,
   "metadata": {
    "collapsed": false
   },
   "outputs": [
    {
     "name": "stdout",
     "output_type": "stream",
     "text": [
      "Is the ChiSq value 1.59 larger than the critical value 3.84? \n",
      "NO!\n",
      "the Null hypothesis is not rejected\n"
     ]
    }
   ],
   "source": [
    "def report_result(chisq, chisqcrit):\n",
    "    print 'Is the ChiSq value {0:.2f} larger than the critical value {1:.2f}? '.format(chisq,chisqcrit)\n",
    "    if chisq>chisqcrit:\n",
    "        print \"YES!\"\n",
    "    else: print \"NO!\"\n",
    "    \n",
    "    print 'the Null hypothesis is {}'.format( 'rejected' if chisq>chisqcrit  else 'not rejected')\n",
    "    \n",
    "report_result(chisq, chisqcrit)"
   ]
  },
  {
   "cell_type": "markdown",
   "metadata": {},
   "source": [
    "Because the test stastic of ChiSq=1.59 is not larger than the critical value of 3.84 (at p = 0.05), we cannot reject the null hypothesis. This means that we cannot conclude that those completed the program have a higher rate of employment than those who did not complete the program six quarters later."
   ]
  },
  {
   "cell_type": "code",
   "execution_count": null,
   "metadata": {
    "collapsed": true
   },
   "outputs": [],
   "source": []
  }
 ],
 "metadata": {
  "kernelspec": {
   "display_name": "Python 2",
   "language": "python",
   "name": "python2"
  },
  "language_info": {
   "codemirror_mode": {
    "name": "ipython",
    "version": 2
   },
   "file_extension": ".py",
   "mimetype": "text/x-python",
   "name": "python",
   "nbconvert_exporter": "python",
   "pygments_lexer": "ipython2",
   "version": "2.7.10"
  }
 },
 "nbformat": 4,
 "nbformat_minor": 0
}
