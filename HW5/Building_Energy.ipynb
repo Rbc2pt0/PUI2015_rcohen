{
 "cells": [
  {
   "cell_type": "code",
   "execution_count": null,
   "metadata": {
    "collapsed": true
   },
   "outputs": [],
   "source": [
    "#question - can I predict building energy use based on number of units in building\n",
    "\n",
    "import geopandas as gp\n",
    "\n",
    "#data links through Fs webpage - use data from linked pages\n",
    "#using spatial data and linking multiple data sets - (geo)panda is very good for this\n",
    "\n",
    "#read in data from LL84 - using Manhattan buildings to keep data set small; import with pandas or geopandas\n",
    "\n",
    "#import data from nrg; then truncate to only first few columns\n",
    "#prob 1 - when you print, see that names are very long and have spaces; data is designed to look at, not to use for analysis\n",
    "#must use function (rename function from pandas - will actually replace column values) to fix\n",
    "#prob 2 - lots of NaN values; need to remove"
   ]
  },
  {
   "cell_type": "code",
   "execution_count": null,
   "metadata": {
    "collapsed": true
   },
   "outputs": [],
   "source": [
    "#use pandas (excellent) scatter plot function for exploratory work on data; shows correlations, structures etc (ie interval not continuous data)\n",
    "#many columns have non-float inputs; need to create function to convert data to more usable format (floats)\n",
    "#Fs function converts data to boolean array - true if float, false is not. pass boolean array through original array (as ~index) to return only float values\n",
    "#use try and except - allows code to continue without crashing if try condition not met\n",
    "#replace all non-relevant cell inputs as NaN values"
   ]
  },
  {
   "cell_type": "code",
   "execution_count": null,
   "metadata": {
    "collapsed": true
   },
   "outputs": [],
   "source": [
    "#...\n",
    "#second data set in better state\n",
    "#use pd.merge to merge energy and other data set, using common column name (BBL)\n",
    "#once datasets merged, plot energy consumption by units\n",
    "#first plot groups everythign on x axis - plot log of x and log of y instead - gives insightful data set"
   ]
  }
 ],
 "metadata": {
  "kernelspec": {
   "display_name": "Python 2",
   "language": "python",
   "name": "python2"
  },
  "language_info": {
   "codemirror_mode": {
    "name": "ipython",
    "version": 2
   },
   "file_extension": ".py",
   "mimetype": "text/x-python",
   "name": "python",
   "nbconvert_exporter": "python",
   "pygments_lexer": "ipython2",
   "version": "2.7.10"
  }
 },
 "nbformat": 4,
 "nbformat_minor": 0
}
