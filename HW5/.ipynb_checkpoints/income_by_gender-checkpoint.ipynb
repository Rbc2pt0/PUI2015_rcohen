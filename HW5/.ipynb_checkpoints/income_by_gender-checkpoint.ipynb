{
 "cells": [
  {
   "cell_type": "code",
   "execution_count": 104,
   "metadata": {
    "collapsed": false
   },
   "outputs": [
    {
     "name": "stdout",
     "output_type": "stream",
     "text": [
      "Populating the interactive namespace from numpy and matplotlib\n"
     ]
    },
    {
     "name": "stderr",
     "output_type": "stream",
     "text": [
      "WARNING: pylab import has clobbered these variables: ['f']\n",
      "`%matplotlib` prevents importing * from pylab and numpy\n"
     ]
    }
   ],
   "source": [
    "import pandas as pd\n",
    "import sys\n",
    "import os\n",
    "import numpy \n",
    "import pylab as pl\n",
    "from pandas.tools.plotting import scatter_matrix\n",
    "import statsmodels.api as sm\n",
    "from scipy import stats\n",
    "\n",
    "%pylab inline"
   ]
  },
  {
   "cell_type": "code",
   "execution_count": 105,
   "metadata": {
    "collapsed": false
   },
   "outputs": [
    {
     "name": "stdout",
     "output_type": "stream",
     "text": [
      "22063\n"
     ]
    }
   ],
   "source": [
    "url=\"http://cosmo.nyu.edu/~fb55/UI_CUSP_2015/data/\"\n",
    "#what is header = 9? why these 10 files and not other 8?\n",
    "\n",
    "allmales={}\n",
    "allmales['all']=pd.read_excel(url+'/pinc08_2_1_1.xls',header=9)\n",
    "allmales['white']=pd.read_excel(url+'/pinc08_2_1_4.xls', header=9)\n",
    "allmales['black']=pd.read_excel(url+'/pinc08_2_1_6.xls', header=9)\n",
    "allmales['hispanic']=pd.read_excel(url+'/pinc08_2_1_9.xls', header=9)\n",
    "allmales['asian']=pd.read_excel(url+'/pinc08_2_1_8.xls', header=9)\n",
    "\n",
    "allfemales={}\n",
    "allfemales['all']=pd.read_excel(url+'/pinc08_3_1_1.xls', header=9)\n",
    "allfemales['white']=pd.read_excel(url+'/pinc08_3_1_4.xls', header=9)\n",
    "allfemales['black']=pd.read_excel(url+'/pinc08_3_1_6.xls', header=9)\n",
    "allfemales['hispanic']=pd.read_excel(url+'/pinc08_3_1_9.xls', header=9)\n",
    "allfemales['asian']=pd.read_excel(url+'/pinc08_3_1_8.xls', header=9)\n",
    "\n",
    "print allfemales['all']['Median income'][1]"
   ]
  },
  {
   "cell_type": "code",
   "execution_count": 106,
   "metadata": {
    "collapsed": false
   },
   "outputs": [],
   "source": [
    "#print allmales['all'].columns\n",
    "#print allfemales['all'].columns"
   ]
  },
  {
   "cell_type": "code",
   "execution_count": 107,
   "metadata": {
    "collapsed": false,
    "scrolled": true
   },
   "outputs": [
    {
     "name": "stderr",
     "output_type": "stream",
     "text": [
      "/Users/rachelcohen/anaconda/lib/python2.7/site-packages/IPython/kernel/__main__.py:5: SettingWithCopyWarning: \n",
      "A value is trying to be set on a copy of a slice from a DataFrame\n",
      "\n",
      "See the the caveats in the documentation: http://pandas.pydata.org/pandas-docs/stable/indexing.html#indexing-view-versus-copy\n",
      "/Users/rachelcohen/anaconda/lib/python2.7/site-packages/IPython/kernel/__main__.py:12: SettingWithCopyWarning: \n",
      "A value is trying to be set on a copy of a slice from a DataFrame\n",
      "\n",
      "See the the caveats in the documentation: http://pandas.pydata.org/pandas-docs/stable/indexing.html#indexing-view-versus-copy\n"
     ]
    }
   ],
   "source": [
    "for k in allmales:\n",
    "    nonreal  = allmales[k].applymap(np.isreal)\n",
    "    for c in allmales[k].columns :\n",
    "        #if nonreal.sum()[c]>1 and nonreal.sum()[c]<49:\n",
    "            allmales[k][c][~nonreal[c]] = np.float('NaN')\n",
    "            allmales[k][c] = allmales[k][c].astype(float)\n",
    "\n",
    "for f in allfemales:\n",
    "    nonreal  = allfemales[f].applymap(np.isreal)\n",
    "    for o in allfemales[f].columns :\n",
    "        #if nonreal.sum()[o]>1 and nonreal.sum()[o]<49:\n",
    "            allfemales[f][o][~nonreal[o]] = np.float('NaN')\n",
    "            allfemales[f][o] = allfemales[f][o].astype(float)"
   ]
  },
  {
   "cell_type": "code",
   "execution_count": 108,
   "metadata": {
    "collapsed": false
   },
   "outputs": [
    {
     "name": "stdout",
     "output_type": "stream",
     "text": [
      "22063.0\n"
     ]
    }
   ],
   "source": [
    "type(allfemales['all']['Median income'])\n",
    "print allfemales['all']['Median income'][1]"
   ]
  },
  {
   "cell_type": "code",
   "execution_count": 109,
   "metadata": {
    "collapsed": false,
    "scrolled": true
   },
   "outputs": [
    {
     "data": {
      "text/html": [
       "<div>\n",
       "<table border=\"1\" class=\"dataframe\">\n",
       "  <thead>\n",
       "    <tr style=\"text-align: right;\">\n",
       "      <th></th>\n",
       "      <th>Characteristic</th>\n",
       "      <th>Total with Income</th>\n",
       "      <th>$1 to $2,499 or loss</th>\n",
       "      <th>$2,500 to $4,999</th>\n",
       "      <th>$5,000 to $7,499</th>\n",
       "      <th>$7,500 to $9,999</th>\n",
       "      <th>$10,000 to $12,499</th>\n",
       "      <th>$12,500 to $14,999</th>\n",
       "      <th>$15,000 to $17,499</th>\n",
       "      <th>$17,500 to $19,999</th>\n",
       "      <th>...</th>\n",
       "      <th>$92,500 to $94,999</th>\n",
       "      <th>$95,000 to $97,499</th>\n",
       "      <th>$97,500 to $99,999</th>\n",
       "      <th>$100,000 and over</th>\n",
       "      <th>Median income</th>\n",
       "      <th>Unnamed: 44</th>\n",
       "      <th>Mean income</th>\n",
       "      <th>Unnamed: 46</th>\n",
       "      <th>Gini ratio</th>\n",
       "      <th>Unnamed: 48</th>\n",
       "    </tr>\n",
       "  </thead>\n",
       "  <tbody>\n",
       "    <tr>\n",
       "      <th>0</th>\n",
       "      <td>NaN</td>\n",
       "      <td>NaN</td>\n",
       "      <td>NaN</td>\n",
       "      <td>NaN</td>\n",
       "      <td>NaN</td>\n",
       "      <td>NaN</td>\n",
       "      <td>NaN</td>\n",
       "      <td>NaN</td>\n",
       "      <td>NaN</td>\n",
       "      <td>NaN</td>\n",
       "      <td>...</td>\n",
       "      <td>NaN</td>\n",
       "      <td>NaN</td>\n",
       "      <td>NaN</td>\n",
       "      <td>NaN</td>\n",
       "      <td>NaN</td>\n",
       "      <td>NaN</td>\n",
       "      <td>NaN</td>\n",
       "      <td>NaN</td>\n",
       "      <td>NaN</td>\n",
       "      <td>NaN</td>\n",
       "    </tr>\n",
       "    <tr>\n",
       "      <th>1</th>\n",
       "      <td>NaN</td>\n",
       "      <td>109956</td>\n",
       "      <td>7590</td>\n",
       "      <td>4298</td>\n",
       "      <td>5557</td>\n",
       "      <td>7874</td>\n",
       "      <td>8052</td>\n",
       "      <td>5720</td>\n",
       "      <td>6768</td>\n",
       "      <td>4377</td>\n",
       "      <td>...</td>\n",
       "      <td>167</td>\n",
       "      <td>285</td>\n",
       "      <td>184</td>\n",
       "      <td>4442</td>\n",
       "      <td>22063</td>\n",
       "      <td>137</td>\n",
       "      <td>31968</td>\n",
       "      <td>250</td>\n",
       "      <td>0.495</td>\n",
       "      <td>0.0025</td>\n",
       "    </tr>\n",
       "    <tr>\n",
       "      <th>2</th>\n",
       "      <td>NaN</td>\n",
       "      <td>74545</td>\n",
       "      <td>4198</td>\n",
       "      <td>3118</td>\n",
       "      <td>3269</td>\n",
       "      <td>2662</td>\n",
       "      <td>4579</td>\n",
       "      <td>1994</td>\n",
       "      <td>4134</td>\n",
       "      <td>2585</td>\n",
       "      <td>...</td>\n",
       "      <td>60</td>\n",
       "      <td>236</td>\n",
       "      <td>127</td>\n",
       "      <td>3535</td>\n",
       "      <td>27736</td>\n",
       "      <td>364</td>\n",
       "      <td>36189</td>\n",
       "      <td>307</td>\n",
       "      <td>0.466</td>\n",
       "      <td>0.0032</td>\n",
       "    </tr>\n",
       "    <tr>\n",
       "      <th>3</th>\n",
       "      <td>NaN</td>\n",
       "      <td>71220</td>\n",
       "      <td>3835</td>\n",
       "      <td>2954</td>\n",
       "      <td>3005</td>\n",
       "      <td>2411</td>\n",
       "      <td>4309</td>\n",
       "      <td>1941</td>\n",
       "      <td>3908</td>\n",
       "      <td>2484</td>\n",
       "      <td>...</td>\n",
       "      <td>61</td>\n",
       "      <td>233</td>\n",
       "      <td>126</td>\n",
       "      <td>3370</td>\n",
       "      <td>28402</td>\n",
       "      <td>379</td>\n",
       "      <td>36412</td>\n",
       "      <td>316</td>\n",
       "      <td>0.461</td>\n",
       "      <td>0.0032</td>\n",
       "    </tr>\n",
       "    <tr>\n",
       "      <th>4</th>\n",
       "      <td>NaN</td>\n",
       "      <td>4694</td>\n",
       "      <td>1282</td>\n",
       "      <td>288</td>\n",
       "      <td>410</td>\n",
       "      <td>253</td>\n",
       "      <td>388</td>\n",
       "      <td>84</td>\n",
       "      <td>265</td>\n",
       "      <td>126</td>\n",
       "      <td>...</td>\n",
       "      <td>0</td>\n",
       "      <td>0</td>\n",
       "      <td>0</td>\n",
       "      <td>127</td>\n",
       "      <td>10732</td>\n",
       "      <td>399</td>\n",
       "      <td>20942</td>\n",
       "      <td>1123</td>\n",
       "      <td>0.650</td>\n",
       "      <td>0.0162</td>\n",
       "    </tr>\n",
       "    <tr>\n",
       "      <th>5</th>\n",
       "      <td>NaN</td>\n",
       "      <td>774</td>\n",
       "      <td>592</td>\n",
       "      <td>57</td>\n",
       "      <td>0</td>\n",
       "      <td>21</td>\n",
       "      <td>18</td>\n",
       "      <td>4</td>\n",
       "      <td>4</td>\n",
       "      <td>0</td>\n",
       "      <td>...</td>\n",
       "      <td>0</td>\n",
       "      <td>0</td>\n",
       "      <td>0</td>\n",
       "      <td>15</td>\n",
       "      <td>1635</td>\n",
       "      <td>65</td>\n",
       "      <td>7908</td>\n",
       "      <td>2005</td>\n",
       "      <td>0.916</td>\n",
       "      <td>0.0148</td>\n",
       "    </tr>\n",
       "    <tr>\n",
       "      <th>6</th>\n",
       "      <td>NaN</td>\n",
       "      <td>26923</td>\n",
       "      <td>770</td>\n",
       "      <td>1294</td>\n",
       "      <td>2750</td>\n",
       "      <td>5261</td>\n",
       "      <td>5022</td>\n",
       "      <td>4252</td>\n",
       "      <td>2990</td>\n",
       "      <td>1924</td>\n",
       "      <td>...</td>\n",
       "      <td>0</td>\n",
       "      <td>0</td>\n",
       "      <td>0</td>\n",
       "      <td>0</td>\n",
       "      <td>11686</td>\n",
       "      <td>70</td>\n",
       "      <td>12453</td>\n",
       "      <td>71</td>\n",
       "      <td>0.258</td>\n",
       "      <td>0.0025</td>\n",
       "    </tr>\n",
       "    <tr>\n",
       "      <th>7</th>\n",
       "      <td>NaN</td>\n",
       "      <td>3386</td>\n",
       "      <td>515</td>\n",
       "      <td>559</td>\n",
       "      <td>363</td>\n",
       "      <td>1428</td>\n",
       "      <td>232</td>\n",
       "      <td>130</td>\n",
       "      <td>72</td>\n",
       "      <td>30</td>\n",
       "      <td>...</td>\n",
       "      <td>0</td>\n",
       "      <td>0</td>\n",
       "      <td>0</td>\n",
       "      <td>0</td>\n",
       "      <td>7950</td>\n",
       "      <td>71</td>\n",
       "      <td>7316</td>\n",
       "      <td>129</td>\n",
       "      <td>0.315</td>\n",
       "      <td>0.0088</td>\n",
       "    </tr>\n",
       "    <tr>\n",
       "      <th>8</th>\n",
       "      <td>NaN</td>\n",
       "      <td>1541</td>\n",
       "      <td>759</td>\n",
       "      <td>409</td>\n",
       "      <td>257</td>\n",
       "      <td>74</td>\n",
       "      <td>9</td>\n",
       "      <td>17</td>\n",
       "      <td>5</td>\n",
       "      <td>3</td>\n",
       "      <td>...</td>\n",
       "      <td>0</td>\n",
       "      <td>0</td>\n",
       "      <td>0</td>\n",
       "      <td>0</td>\n",
       "      <td>2569</td>\n",
       "      <td>180</td>\n",
       "      <td>3413</td>\n",
       "      <td>149</td>\n",
       "      <td>0.464</td>\n",
       "      <td>0.0139</td>\n",
       "    </tr>\n",
       "    <tr>\n",
       "      <th>9</th>\n",
       "      <td>NaN</td>\n",
       "      <td>619</td>\n",
       "      <td>79</td>\n",
       "      <td>58</td>\n",
       "      <td>48</td>\n",
       "      <td>68</td>\n",
       "      <td>56</td>\n",
       "      <td>113</td>\n",
       "      <td>49</td>\n",
       "      <td>31</td>\n",
       "      <td>...</td>\n",
       "      <td>0</td>\n",
       "      <td>0</td>\n",
       "      <td>6</td>\n",
       "      <td>0</td>\n",
       "      <td>12501</td>\n",
       "      <td>760</td>\n",
       "      <td>13839</td>\n",
       "      <td>927</td>\n",
       "      <td>0.420</td>\n",
       "      <td>0.0288</td>\n",
       "    </tr>\n",
       "  </tbody>\n",
       "</table>\n",
       "<p>10 rows × 49 columns</p>\n",
       "</div>"
      ],
      "text/plain": [
       "   Characteristic  Total with Income  $1 to $2,499 or loss  $2,500 to $4,999  \\\n",
       "0             NaN                NaN                   NaN               NaN   \n",
       "1             NaN             109956                  7590              4298   \n",
       "2             NaN              74545                  4198              3118   \n",
       "3             NaN              71220                  3835              2954   \n",
       "4             NaN               4694                  1282               288   \n",
       "5             NaN                774                   592                57   \n",
       "6             NaN              26923                   770              1294   \n",
       "7             NaN               3386                   515               559   \n",
       "8             NaN               1541                   759               409   \n",
       "9             NaN                619                    79                58   \n",
       "\n",
       "   $5,000 to $7,499  $7,500 to $9,999  $10,000 to $12,499  $12,500 to $14,999  \\\n",
       "0               NaN               NaN                 NaN                 NaN   \n",
       "1              5557              7874                8052                5720   \n",
       "2              3269              2662                4579                1994   \n",
       "3              3005              2411                4309                1941   \n",
       "4               410               253                 388                  84   \n",
       "5                 0                21                  18                   4   \n",
       "6              2750              5261                5022                4252   \n",
       "7               363              1428                 232                 130   \n",
       "8               257                74                   9                  17   \n",
       "9                48                68                  56                 113   \n",
       "\n",
       "   $15,000 to $17,499  $17,500 to $19,999     ...       $92,500 to $94,999  \\\n",
       "0                 NaN                 NaN     ...                      NaN   \n",
       "1                6768                4377     ...                      167   \n",
       "2                4134                2585     ...                       60   \n",
       "3                3908                2484     ...                       61   \n",
       "4                 265                 126     ...                        0   \n",
       "5                   4                   0     ...                        0   \n",
       "6                2990                1924     ...                        0   \n",
       "7                  72                  30     ...                        0   \n",
       "8                   5                   3     ...                        0   \n",
       "9                  49                  31     ...                        0   \n",
       "\n",
       "   $95,000 to $97,499  $97,500 to $99,999  $100,000 and over  Median income  \\\n",
       "0                 NaN                 NaN                NaN            NaN   \n",
       "1                 285                 184               4442          22063   \n",
       "2                 236                 127               3535          27736   \n",
       "3                 233                 126               3370          28402   \n",
       "4                   0                   0                127          10732   \n",
       "5                   0                   0                 15           1635   \n",
       "6                   0                   0                  0          11686   \n",
       "7                   0                   0                  0           7950   \n",
       "8                   0                   0                  0           2569   \n",
       "9                   0                   6                  0          12501   \n",
       "\n",
       "   Unnamed: 44  Mean income  Unnamed: 46  Gini ratio  Unnamed: 48  \n",
       "0          NaN          NaN          NaN         NaN          NaN  \n",
       "1          137        31968          250       0.495       0.0025  \n",
       "2          364        36189          307       0.466       0.0032  \n",
       "3          379        36412          316       0.461       0.0032  \n",
       "4          399        20942         1123       0.650       0.0162  \n",
       "5           65         7908         2005       0.916       0.0148  \n",
       "6           70        12453           71       0.258       0.0025  \n",
       "7           71         7316          129       0.315       0.0088  \n",
       "8          180         3413          149       0.464       0.0139  \n",
       "9          760        13839          927       0.420       0.0288  \n",
       "\n",
       "[10 rows x 49 columns]"
      ]
     },
     "execution_count": 109,
     "metadata": {},
     "output_type": "execute_result"
    }
   ],
   "source": [
    "#tried scatter matrix - plotted everything but completely illegible\n",
    "#scatter_matrix (allfemales['all'], s = 300, figsize=(16, 16), diagonal='kde')\n",
    "\n",
    "allfemales['all'].head(10)\n",
    "#looking just at a few rows shows what data is in the spreadsheets - we want to the total row(1) from the Median Income column for each group"
   ]
  },
  {
   "cell_type": "code",
   "execution_count": 110,
   "metadata": {
    "collapsed": false
   },
   "outputs": [
    {
     "data": {
      "text/html": [
       "<div>\n",
       "<table border=\"1\" class=\"dataframe\">\n",
       "  <thead>\n",
       "    <tr style=\"text-align: right;\">\n",
       "      <th></th>\n",
       "      <th>Characteristic</th>\n",
       "      <th>Total with Income</th>\n",
       "      <th>$1 to $2,499 or loss</th>\n",
       "      <th>$2,500 to $4,999</th>\n",
       "      <th>$5,000 to $7,499</th>\n",
       "      <th>$7,500 to $9,999</th>\n",
       "      <th>$10,000 to $12,499</th>\n",
       "      <th>$12,500 to $14,999</th>\n",
       "      <th>$15,000 to $17,499</th>\n",
       "      <th>$17,500 to $19,999</th>\n",
       "      <th>...</th>\n",
       "      <th>$92,500 to $94,999</th>\n",
       "      <th>$95,000 to $97,499</th>\n",
       "      <th>$97,500 to $99,999</th>\n",
       "      <th>$100,000 and over</th>\n",
       "      <th>Median income</th>\n",
       "      <th>Unnamed: 44</th>\n",
       "      <th>Mean income</th>\n",
       "      <th>Unnamed: 46</th>\n",
       "      <th>Gini ratio</th>\n",
       "      <th>Unnamed: 48</th>\n",
       "    </tr>\n",
       "  </thead>\n",
       "  <tbody>\n",
       "    <tr>\n",
       "      <th>0</th>\n",
       "      <td>NaN</td>\n",
       "      <td>NaN</td>\n",
       "      <td>NaN</td>\n",
       "      <td>NaN</td>\n",
       "      <td>NaN</td>\n",
       "      <td>NaN</td>\n",
       "      <td>NaN</td>\n",
       "      <td>NaN</td>\n",
       "      <td>NaN</td>\n",
       "      <td>NaN</td>\n",
       "      <td>...</td>\n",
       "      <td>NaN</td>\n",
       "      <td>NaN</td>\n",
       "      <td>NaN</td>\n",
       "      <td>NaN</td>\n",
       "      <td>NaN</td>\n",
       "      <td>NaN</td>\n",
       "      <td>NaN</td>\n",
       "      <td>NaN</td>\n",
       "      <td>NaN</td>\n",
       "      <td>NaN</td>\n",
       "    </tr>\n",
       "    <tr>\n",
       "      <th>1</th>\n",
       "      <td>NaN</td>\n",
       "      <td>108706</td>\n",
       "      <td>4407</td>\n",
       "      <td>2665</td>\n",
       "      <td>3200</td>\n",
       "      <td>4027</td>\n",
       "      <td>4418</td>\n",
       "      <td>3333</td>\n",
       "      <td>5027</td>\n",
       "      <td>3807</td>\n",
       "      <td>...</td>\n",
       "      <td>513</td>\n",
       "      <td>626</td>\n",
       "      <td>457</td>\n",
       "      <td>12003</td>\n",
       "      <td>35228</td>\n",
       "      <td>211</td>\n",
       "      <td>50779</td>\n",
       "      <td>447</td>\n",
       "      <td>0.501</td>\n",
       "      <td>0.0033</td>\n",
       "    </tr>\n",
       "    <tr>\n",
       "      <th>2</th>\n",
       "      <td>NaN</td>\n",
       "      <td>83555</td>\n",
       "      <td>3217</td>\n",
       "      <td>2326</td>\n",
       "      <td>2560</td>\n",
       "      <td>1964</td>\n",
       "      <td>3118</td>\n",
       "      <td>1505</td>\n",
       "      <td>3451</td>\n",
       "      <td>1959</td>\n",
       "      <td>...</td>\n",
       "      <td>246</td>\n",
       "      <td>559</td>\n",
       "      <td>259</td>\n",
       "      <td>10113</td>\n",
       "      <td>39903</td>\n",
       "      <td>437</td>\n",
       "      <td>54086</td>\n",
       "      <td>531</td>\n",
       "      <td>0.489</td>\n",
       "      <td>0.0039</td>\n",
       "    </tr>\n",
       "    <tr>\n",
       "      <th>3</th>\n",
       "      <td>NaN</td>\n",
       "      <td>78263</td>\n",
       "      <td>2779</td>\n",
       "      <td>2184</td>\n",
       "      <td>2419</td>\n",
       "      <td>1780</td>\n",
       "      <td>2777</td>\n",
       "      <td>1365</td>\n",
       "      <td>3149</td>\n",
       "      <td>1847</td>\n",
       "      <td>...</td>\n",
       "      <td>244</td>\n",
       "      <td>540</td>\n",
       "      <td>257</td>\n",
       "      <td>9392</td>\n",
       "      <td>40298</td>\n",
       "      <td>167</td>\n",
       "      <td>54268</td>\n",
       "      <td>543</td>\n",
       "      <td>0.483</td>\n",
       "      <td>0.0040</td>\n",
       "    </tr>\n",
       "    <tr>\n",
       "      <th>4</th>\n",
       "      <td>NaN</td>\n",
       "      <td>7014</td>\n",
       "      <td>1478</td>\n",
       "      <td>280</td>\n",
       "      <td>342</td>\n",
       "      <td>231</td>\n",
       "      <td>556</td>\n",
       "      <td>144</td>\n",
       "      <td>377</td>\n",
       "      <td>122</td>\n",
       "      <td>...</td>\n",
       "      <td>0</td>\n",
       "      <td>18</td>\n",
       "      <td>0</td>\n",
       "      <td>516</td>\n",
       "      <td>19557</td>\n",
       "      <td>1391</td>\n",
       "      <td>34247</td>\n",
       "      <td>1291</td>\n",
       "      <td>0.630</td>\n",
       "      <td>0.0092</td>\n",
       "    </tr>\n",
       "    <tr>\n",
       "      <th>5</th>\n",
       "      <td>NaN</td>\n",
       "      <td>1518</td>\n",
       "      <td>804</td>\n",
       "      <td>62</td>\n",
       "      <td>66</td>\n",
       "      <td>26</td>\n",
       "      <td>75</td>\n",
       "      <td>15</td>\n",
       "      <td>70</td>\n",
       "      <td>14</td>\n",
       "      <td>...</td>\n",
       "      <td>0</td>\n",
       "      <td>2</td>\n",
       "      <td>3</td>\n",
       "      <td>83</td>\n",
       "      <td>2359</td>\n",
       "      <td>106</td>\n",
       "      <td>20918</td>\n",
       "      <td>2837</td>\n",
       "      <td>0.820</td>\n",
       "      <td>0.0168</td>\n",
       "    </tr>\n",
       "    <tr>\n",
       "      <th>6</th>\n",
       "      <td>NaN</td>\n",
       "      <td>21454</td>\n",
       "      <td>555</td>\n",
       "      <td>859</td>\n",
       "      <td>919</td>\n",
       "      <td>1784</td>\n",
       "      <td>2250</td>\n",
       "      <td>3063</td>\n",
       "      <td>3329</td>\n",
       "      <td>3282</td>\n",
       "      <td>...</td>\n",
       "      <td>0</td>\n",
       "      <td>0</td>\n",
       "      <td>0</td>\n",
       "      <td>0</td>\n",
       "      <td>15974</td>\n",
       "      <td>96</td>\n",
       "      <td>15892</td>\n",
       "      <td>86</td>\n",
       "      <td>0.237</td>\n",
       "      <td>0.0028</td>\n",
       "    </tr>\n",
       "    <tr>\n",
       "      <th>7</th>\n",
       "      <td>NaN</td>\n",
       "      <td>2667</td>\n",
       "      <td>298</td>\n",
       "      <td>283</td>\n",
       "      <td>447</td>\n",
       "      <td>1041</td>\n",
       "      <td>225</td>\n",
       "      <td>126</td>\n",
       "      <td>78</td>\n",
       "      <td>78</td>\n",
       "      <td>...</td>\n",
       "      <td>0</td>\n",
       "      <td>0</td>\n",
       "      <td>0</td>\n",
       "      <td>0</td>\n",
       "      <td>8232</td>\n",
       "      <td>95</td>\n",
       "      <td>8374</td>\n",
       "      <td>174</td>\n",
       "      <td>0.298</td>\n",
       "      <td>0.0113</td>\n",
       "    </tr>\n",
       "    <tr>\n",
       "      <th>8</th>\n",
       "      <td>NaN</td>\n",
       "      <td>456</td>\n",
       "      <td>312</td>\n",
       "      <td>97</td>\n",
       "      <td>30</td>\n",
       "      <td>12</td>\n",
       "      <td>2</td>\n",
       "      <td>2</td>\n",
       "      <td>0</td>\n",
       "      <td>0</td>\n",
       "      <td>...</td>\n",
       "      <td>0</td>\n",
       "      <td>0</td>\n",
       "      <td>0</td>\n",
       "      <td>0</td>\n",
       "      <td>1829</td>\n",
       "      <td>117</td>\n",
       "      <td>2123</td>\n",
       "      <td>236</td>\n",
       "      <td>0.571</td>\n",
       "      <td>0.0275</td>\n",
       "    </tr>\n",
       "    <tr>\n",
       "      <th>9</th>\n",
       "      <td>NaN</td>\n",
       "      <td>2899</td>\n",
       "      <td>545</td>\n",
       "      <td>385</td>\n",
       "      <td>250</td>\n",
       "      <td>178</td>\n",
       "      <td>228</td>\n",
       "      <td>189</td>\n",
       "      <td>140</td>\n",
       "      <td>175</td>\n",
       "      <td>...</td>\n",
       "      <td>0</td>\n",
       "      <td>0</td>\n",
       "      <td>0</td>\n",
       "      <td>0</td>\n",
       "      <td>11010</td>\n",
       "      <td>529</td>\n",
       "      <td>14810</td>\n",
       "      <td>487</td>\n",
       "      <td>0.490</td>\n",
       "      <td>0.0094</td>\n",
       "    </tr>\n",
       "  </tbody>\n",
       "</table>\n",
       "<p>10 rows × 49 columns</p>\n",
       "</div>"
      ],
      "text/plain": [
       "   Characteristic  Total with Income  $1 to $2,499 or loss  $2,500 to $4,999  \\\n",
       "0             NaN                NaN                   NaN               NaN   \n",
       "1             NaN             108706                  4407              2665   \n",
       "2             NaN              83555                  3217              2326   \n",
       "3             NaN              78263                  2779              2184   \n",
       "4             NaN               7014                  1478               280   \n",
       "5             NaN               1518                   804                62   \n",
       "6             NaN              21454                   555               859   \n",
       "7             NaN               2667                   298               283   \n",
       "8             NaN                456                   312                97   \n",
       "9             NaN               2899                   545               385   \n",
       "\n",
       "   $5,000 to $7,499  $7,500 to $9,999  $10,000 to $12,499  $12,500 to $14,999  \\\n",
       "0               NaN               NaN                 NaN                 NaN   \n",
       "1              3200              4027                4418                3333   \n",
       "2              2560              1964                3118                1505   \n",
       "3              2419              1780                2777                1365   \n",
       "4               342               231                 556                 144   \n",
       "5                66                26                  75                  15   \n",
       "6               919              1784                2250                3063   \n",
       "7               447              1041                 225                 126   \n",
       "8                30                12                   2                   2   \n",
       "9               250               178                 228                 189   \n",
       "\n",
       "   $15,000 to $17,499  $17,500 to $19,999     ...       $92,500 to $94,999  \\\n",
       "0                 NaN                 NaN     ...                      NaN   \n",
       "1                5027                3807     ...                      513   \n",
       "2                3451                1959     ...                      246   \n",
       "3                3149                1847     ...                      244   \n",
       "4                 377                 122     ...                        0   \n",
       "5                  70                  14     ...                        0   \n",
       "6                3329                3282     ...                        0   \n",
       "7                  78                  78     ...                        0   \n",
       "8                   0                   0     ...                        0   \n",
       "9                 140                 175     ...                        0   \n",
       "\n",
       "   $95,000 to $97,499  $97,500 to $99,999  $100,000 and over  Median income  \\\n",
       "0                 NaN                 NaN                NaN            NaN   \n",
       "1                 626                 457              12003          35228   \n",
       "2                 559                 259              10113          39903   \n",
       "3                 540                 257               9392          40298   \n",
       "4                  18                   0                516          19557   \n",
       "5                   2                   3                 83           2359   \n",
       "6                   0                   0                  0          15974   \n",
       "7                   0                   0                  0           8232   \n",
       "8                   0                   0                  0           1829   \n",
       "9                   0                   0                  0          11010   \n",
       "\n",
       "   Unnamed: 44  Mean income  Unnamed: 46  Gini ratio  Unnamed: 48  \n",
       "0          NaN          NaN          NaN         NaN          NaN  \n",
       "1          211        50779          447       0.501       0.0033  \n",
       "2          437        54086          531       0.489       0.0039  \n",
       "3          167        54268          543       0.483       0.0040  \n",
       "4         1391        34247         1291       0.630       0.0092  \n",
       "5          106        20918         2837       0.820       0.0168  \n",
       "6           96        15892           86       0.237       0.0028  \n",
       "7           95         8374          174       0.298       0.0113  \n",
       "8          117         2123          236       0.571       0.0275  \n",
       "9          529        14810          487       0.490       0.0094  \n",
       "\n",
       "[10 rows x 49 columns]"
      ]
     },
     "execution_count": 110,
     "metadata": {},
     "output_type": "execute_result"
    }
   ],
   "source": [
    "allmales['all'].head(10)"
   ]
  },
  {
   "cell_type": "code",
   "execution_count": 111,
   "metadata": {
    "collapsed": false
   },
   "outputs": [
    {
     "name": "stdout",
     "output_type": "stream",
     "text": [
      "[35228.0, 40122.0, 24855.0, 25411.0, 40153.0]\n"
     ]
    }
   ],
   "source": [
    "med_male = allmales['all']['Median income'][1]\n",
    "med_white = allmales['white']['Median income'][1]\n",
    "med_black = allmales['black']['Median income'][1]\n",
    "med_hispanic = allmales['hispanic']['Median income'][1]\n",
    "med_asian = allmales['asian']['Median income'][1]\n",
    "print [med_male, med_white, med_black, med_hispanic, med_asian]\n"
   ]
  },
  {
   "cell_type": "code",
   "execution_count": 112,
   "metadata": {
    "collapsed": false
   },
   "outputs": [
    {
     "name": "stdout",
     "output_type": "stream",
     "text": [
      "[22063.0, 23780.0, 20044.0, 17762.0, 24840.0]\n"
     ]
    }
   ],
   "source": [
    "mf = allfemales['all']['Median income'][1]\n",
    "mfw = allfemales['white']['Median income'][1]\n",
    "mfb = allfemales['black']['Median income'][1]\n",
    "mfh = allfemales['hispanic']['Median income'][1]\n",
    "mfa = allfemales['asian']['Median income'][1]\n",
    "print [mf, mfw, mfb, mfh, mfa]"
   ]
  },
  {
   "cell_type": "code",
   "execution_count": 168,
   "metadata": {
    "collapsed": false
   },
   "outputs": [
    {
     "data": {
      "text/plain": [
       "<matplotlib.text.Text at 0x114cd4ed0>"
      ]
     },
     "execution_count": 168,
     "metadata": {},
     "output_type": "execute_result"
    },
    {
     "data": {
      "image/png": "[encoded data removed]",
      "text/plain": [
       "<matplotlib.figure.Figure at 0x1152ccf50>"
      ]
     },
     "metadata": {},
     "output_type": "display_data"
    }
   ],
   "source": [
    "pl.scatter(mf, med_male, color='pink', label = 'All Races')\n",
    "pl.scatter(mfw, med_white, color='yellow', label = 'White')\n",
    "pl.scatter(mfb, med_black, color='blue', label = 'Black')\n",
    "pl.scatter(mfh, med_hispanic, color='green', label = 'Hispanic')\n",
    "pl.scatter(mfa, med_asian, color='black', label = 'Asian')\n",
    "\n",
    "x = numpy.arange(0,45000,1)\n",
    "pl.plot(x, x, color='red', linewidth=2.0)\n",
    "pl.legend(bbox_to_anchor=(1, 1))\n",
    "pl.xlabel('Female Median Income')\n",
    "pl.ylabel('Male Median Income')\n",
    "pl.title('Comparing Median Income by Gender')"
   ]
  },
  {
   "cell_type": "markdown",
   "metadata": {
    "collapsed": true
   },
   "source": [
    "This simple chart shows that for each group, median male income exceeds median female income. If the total median incomes were the same regardless of gender, all points would appear on the red line with a slope of 1 and intercept of 0."
   ]
  },
  {
   "cell_type": "code",
   "execution_count": 139,
   "metadata": {
    "collapsed": false
   },
   "outputs": [],
   "source": [
    "#print len(allfemales['all'])\n",
    "#print len(allmales['all'])"
   ]
  },
  {
   "cell_type": "code",
   "execution_count": 140,
   "metadata": {
    "collapsed": false
   },
   "outputs": [],
   "source": [
    "male_array = np.array([mf, mfw, mfb, mfh, mfa])\n",
    "female_array = np.array([med_male, med_white, med_black, med_hispanic, med_asian])"
   ]
  },
  {
   "cell_type": "code",
   "execution_count": 141,
   "metadata": {
    "collapsed": false
   },
   "outputs": [
    {
     "name": "stdout",
     "output_type": "stream",
     "text": [
      "(0.90000000000000002, 0.037386073468498628)\n",
      "0.338176888526\n",
      "10485.9510732\n"
     ]
    }
   ],
   "source": [
    "cor = stats.spearmanr(male_array, female_array)\n",
    "print cor\n",
    "\n",
    "male_array.std()/female_array.std()\n",
    "beta1=cor[0]*male_array.std()/female_array.std()\n",
    "beta0=male_array.mean()-beta1*female_array.mean()\n",
    "\n",
    "print beta1\n",
    "print beta0"
   ]
  },
  {
   "cell_type": "code",
   "execution_count": 142,
   "metadata": {
    "collapsed": true
   },
   "outputs": [],
   "source": [
    "#showing a high correlation with a low p value. This shows correlation between race and average income."
   ]
  },
  {
   "cell_type": "code",
   "execution_count": 143,
   "metadata": {
    "collapsed": true
   },
   "outputs": [],
   "source": [
    "all_males=np.ma.array(np.concatenate([allmales['all']['Median income'][:].values,allmales['white']['Median income'][:].values,allmales['black']['Median income'][:].values,allmales['hispanic']['Median income'][:].values,allmales['asian']['Median income'][:].values]).flatten())\n",
    "\n",
    "all_females=np.ma.array(np.concatenate([allfemales['all']['Median income'][:].values,allfemales['white']['Median income'][:].values,allfemales['black']['Median income'][:].values,allfemales['hispanic']['Median income'][:].values,allfemales['asian']['Median income'][:].values]).flatten())"
   ]
  },
  {
   "cell_type": "code",
   "execution_count": 144,
   "metadata": {
    "collapsed": true
   },
   "outputs": [],
   "source": [
    "allmask = [np.isnan(all_males) + np.isnan(all_females)]\n",
    "\n",
    "all_females.mask = allmask\n",
    "all_males.mask = allmask"
   ]
  },
  {
   "cell_type": "code",
   "execution_count": 170,
   "metadata": {
    "collapsed": false
   },
   "outputs": [
    {
     "data": {
      "text/plain": [
       "<matplotlib.text.Text at 0x1154713d0>"
      ]
     },
     "execution_count": 170,
     "metadata": {},
     "output_type": "execute_result"
    },
    {
     "data": {
      "image/png": "[encoded data removed]",
      "text/plain": [
       "<matplotlib.figure.Figure at 0x114142e10>"
      ]
     },
     "metadata": {},
     "output_type": "display_data"
    }
   ],
   "source": [
    "pl.scatter(all_females, all_males, color = 'purple')\n",
    "pl.scatter(allfemales['all'], allmales['all'], color ='green', label = 'All Races')\n",
    "pl.scatter(allfemales['white'], allmales['white'], color = 'red', label = 'White')\n",
    "pl.scatter(allfemales['black'], allmales['black'], color = 'blue', label = 'Black')\n",
    "pl.scatter(allfemales['asian'], allmales['asian'], color = 'black', label = 'Asian')\n",
    "pl.scatter(allfemales['hispanic'], allmales['hispanic'], color = 'pink', label = 'Hispanic')\n",
    "\n",
    "x = np.arange(0,120000,1)\n",
    "pl.plot(x, x, color='red', linewidth=2.0)\n",
    "pl.legend(bbox_to_anchor=(1, 1))\n",
    "pl.xlabel('Female Median Income')\n",
    "pl.ylabel('Male Median Income')\n",
    "pl.title('Comparing Median Income by Gender and Race')"
   ]
  },
  {
   "cell_type": "markdown",
   "metadata": {},
   "source": [
    "#what does this chart show?"
   ]
  },
  {
   "cell_type": "markdown",
   "metadata": {},
   "source": [
    "It seemed like concatanating with the 'all' csv would double-count values (since all is a combination of the other files), so I reran without the all - finding similar results below but with lower max values."
   ]
  },
  {
   "cell_type": "code",
   "execution_count": 146,
   "metadata": {
    "collapsed": false
   },
   "outputs": [],
   "source": [
    "all_males=np.ma.array(np.concatenate([allmales['white']['Median income'][:].values,allmales['black']['Median income'][:].values,allmales['hispanic']['Median income'][:].values,allmales['asian']['Median income'][:].values]).flatten())\n",
    "\n",
    "all_females=np.ma.array(np.concatenate([allfemales['white']['Median income'][:].values,allfemales['black']['Median income'][:].values,allfemales['hispanic']['Median income'][:].values,allfemales['asian']['Median income'][:].values]).flatten())"
   ]
  },
  {
   "cell_type": "code",
   "execution_count": 147,
   "metadata": {
    "collapsed": true
   },
   "outputs": [],
   "source": [
    "allmask = [np.isnan(all_males) + np.isnan(all_females)]\n",
    "\n",
    "all_females.mask = allmask\n",
    "all_males.mask = allmask"
   ]
  },
  {
   "cell_type": "code",
   "execution_count": 151,
   "metadata": {
    "collapsed": false
   },
   "outputs": [
    {
     "name": "stdout",
     "output_type": "stream",
     "text": [
      "(0.84958556111919392, 8.5256216833585171e-56)\n"
     ]
    }
   ],
   "source": [
    "allcor = stats.spearmanr(all_females, all_males)\n",
    "print allcor"
   ]
  },
  {
   "cell_type": "markdown",
   "metadata": {},
   "source": [
    "High correlation, low p value - there is a relationship between gender and income, with race as a covariant"
   ]
  },
  {
   "cell_type": "code",
   "execution_count": 171,
   "metadata": {
    "collapsed": false
   },
   "outputs": [
    {
     "data": {
      "text/plain": [
       "<matplotlib.text.Text at 0x114c63410>"
      ]
     },
     "execution_count": 171,
     "metadata": {},
     "output_type": "execute_result"
    },
    {
     "data": {
      "image/png": "[encoded data removed]",
      "text/plain": [
       "<matplotlib.figure.Figure at 0x116080fd0>"
      ]
     },
     "metadata": {},
     "output_type": "display_data"
    }
   ],
   "source": [
    "pl.scatter(all_females, all_males, color = 'purple')\n",
    "#pl.scatter(allfemales['all'], allmales['all'], color ='green')\n",
    "pl.scatter(allfemales['white'], allmales['white'], color = 'red', label = 'White')\n",
    "pl.scatter(allfemales['black'], allmales['black'], color = 'blue', label = 'Black')\n",
    "pl.scatter(allfemales['asian'], allmales['asian'], color = 'black', label = 'Asian')\n",
    "pl.scatter(allfemales['hispanic'], allmales['hispanic'], color = 'pink', label = 'Hispanic')\n",
    "\n",
    "x = np.arange(0,90000,1)\n",
    "pl.plot(x, x, color='red', linewidth=2.0)\n",
    "pl.legend(bbox_to_anchor=(1, 1))\n",
    "pl.xlabel('Female Median Income')\n",
    "pl.ylabel('Male Median Income')\n",
    "pl.title('Comparing Median Income by Gender and Race')"
   ]
  },
  {
   "cell_type": "code",
   "execution_count": null,
   "metadata": {
    "collapsed": true
   },
   "outputs": [],
   "source": []
  }
 ],
 "metadata": {
  "kernelspec": {
   "display_name": "Python 2",
   "language": "python",
   "name": "python2"
  },
  "language_info": {
   "codemirror_mode": {
    "name": "ipython",
    "version": 2
   },
   "file_extension": ".py",
   "mimetype": "text/x-python",
   "name": "python",
   "nbconvert_exporter": "python",
   "pygments_lexer": "ipython2",
   "version": "2.7.10"
  }
 },
 "nbformat": 4,
 "nbformat_minor": 0
}
