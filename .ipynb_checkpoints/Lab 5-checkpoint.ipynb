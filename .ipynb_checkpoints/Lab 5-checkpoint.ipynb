{
 "cells": [
  {
   "cell_type": "code",
   "execution_count": 72,
   "metadata": {
    "collapsed": false
   },
   "outputs": [
    {
     "name": "stdout",
     "output_type": "stream",
     "text": [
      "Populating the interactive namespace from numpy and matplotlib\n"
     ]
    },
    {
     "name": "stderr",
     "output_type": "stream",
     "text": [
      "WARNING: pylab import has clobbered these variables: ['e']\n",
      "`%matplotlib` prevents importing * from pylab and numpy\n"
     ]
    }
   ],
   "source": [
    "import numpy as np\n",
    "import pandas as pd\n",
    "# effectively the same as matplotlib\n",
    "import pylab as pl\n",
    "\n",
    "%pylab inline"
   ]
  },
  {
   "cell_type": "code",
   "execution_count": 73,
   "metadata": {
    "collapsed": false
   },
   "outputs": [],
   "source": [
    "#generating a random line inside a function\n",
    "def base_line(a, b, x):\n",
    "    y = a*x + b\n",
    "    return y\n",
    "#or replace last 2 lines with return \"a*x + b\"\n",
    "\n",
    "#numpy.vectorize - look for HW. runs for loop for function (but better). better to vectorize than to use for loops in python (more efficient)"
   ]
  },
  {
   "cell_type": "code",
   "execution_count": 74,
   "metadata": {
    "collapsed": false
   },
   "outputs": [
    {
     "name": "stdout",
     "output_type": "stream",
     "text": [
      "[0, 2, 4, 6, 8, 10, 12, 14, 16, 18, 20, 22, 24, 26, 28, 30, 32, 34, 36, 38, 40, 42, 44, 46, 48, 50, 52, 54, 56, 58, 60, 62, 64, 66, 68, 70, 72, 74, 76, 78, 80, 82, 84, 86, 88, 90, 92, 94, 96, 98]\n"
     ]
    },
    {
     "data": {
      "text/plain": [
       "list"
      ]
     },
     "execution_count": 74,
     "metadata": {},
     "output_type": "execute_result"
    }
   ],
   "source": [
    "#create array to pass through function as x\n",
    "\n",
    "x = range(0, 100, 2) #initial value, end value, steps\n",
    "print x\n",
    "type(x) # testing what type of input x_1 is - returns list\n",
    "#base_line(3,7,x_1)"
   ]
  },
  {
   "cell_type": "code",
   "execution_count": 75,
   "metadata": {
    "collapsed": true
   },
   "outputs": [],
   "source": [
    "#shows that x is a list; can hold anything. need an array to run through the function"
   ]
  },
  {
   "cell_type": "code",
   "execution_count": 76,
   "metadata": {
    "collapsed": false
   },
   "outputs": [
    {
     "name": "stdout",
     "output_type": "stream",
     "text": [
      "<type 'numpy.ndarray'>\n"
     ]
    }
   ],
   "source": [
    "#use numpy function to create array instead of range, and allows array of floats\n",
    "x = np.arange(0., 100., 0.5)\n",
    "#print x\n",
    "print type(x)"
   ]
  },
  {
   "cell_type": "code",
   "execution_count": 77,
   "metadata": {
    "collapsed": false
   },
   "outputs": [],
   "source": [
    "y = base_line(2,4,x)"
   ]
  },
  {
   "cell_type": "code",
   "execution_count": 78,
   "metadata": {
    "collapsed": false
   },
   "outputs": [
    {
     "data": {
      "text/plain": [
       "[<matplotlib.lines.Line2D at 0x10d832510>]"
      ]
     },
     "execution_count": 78,
     "metadata": {},
     "output_type": "execute_result"
    },
    {
     "data": {
      "image/png": "[encoded data removed]",
      "text/plain": [
       "<matplotlib.figure.Figure at 0x1064ce190>"
      ]
     },
     "metadata": {},
     "output_type": "display_data"
    }
   ],
   "source": [
    "#now we have a function. next steps:\n",
    "#1) plot\n",
    "#2) add noise\n",
    "\n",
    "pl.plot(x, y, '.')\n",
    "#dot plots with points"
   ]
  },
  {
   "cell_type": "code",
   "execution_count": 79,
   "metadata": {
    "collapsed": false
   },
   "outputs": [
    {
     "data": {
      "text/plain": [
       "[<matplotlib.lines.Line2D at 0x10dc78750>]"
      ]
     },
     "execution_count": 79,
     "metadata": {},
     "output_type": "execute_result"
    },
    {
     "data": {
      "image/png": "[encoded data removed]",
      "text/plain": [
       "<matplotlib.figure.Figure at 0x10d441c50>"
      ]
     },
     "metadata": {},
     "output_type": "display_data"
    }
   ],
   "source": [
    "#adding noise to the line by adding random values around the function. noise is usually gaussian\n",
    "e = np.random.randn(len(y))\n",
    "y_noise = y + e\n",
    "type(y_noise) #array because combo of 2 arrays\n",
    "pl.plot(x, y_noise, '.')"
   ]
  },
  {
   "cell_type": "code",
   "execution_count": 80,
   "metadata": {
    "collapsed": false
   },
   "outputs": [
    {
     "data": {
      "text/plain": [
       "[<matplotlib.lines.Line2D at 0x10da67550>]"
      ]
     },
     "execution_count": 80,
     "metadata": {},
     "output_type": "execute_result"
    },
    {
     "data": {
      "image/png": "[encoded data removed]",
      "text/plain": [
       "<matplotlib.figure.Figure at 0x10da7b310>"
      ]
     },
     "metadata": {},
     "output_type": "display_data"
    }
   ],
   "source": [
    "#amplify the noise\n",
    "e = np.random.randn(len(x))*15\n",
    "y_noise = y + e\n",
    "pl.plot(x, y, '.')\n",
    "pl.plot(x, y_noise, '.')"
   ]
  },
  {
   "cell_type": "code",
   "execution_count": 81,
   "metadata": {
    "collapsed": false
   },
   "outputs": [
    {
     "name": "stdout",
     "output_type": "stream",
     "text": [
      "102.406624274\n",
      "103.5\n"
     ]
    }
   ],
   "source": [
    "print np.mean(y_noise)\n",
    "print np.mean(y)"
   ]
  },
  {
   "cell_type": "code",
   "execution_count": 82,
   "metadata": {
    "collapsed": false
   },
   "outputs": [
    {
     "name": "stdout",
     "output_type": "stream",
     "text": [
      "(200, 2)\n"
     ]
    }
   ],
   "source": [
    "#testing whether we pulled meaningful data; fitting our data with a line using stats model package\n",
    "#stats model uses linear algebra - needs input to be matrix\n",
    "\n",
    "import statsmodels.formula.api as smf\n",
    "data = pd.DataFrame({'x':x, 'y':y_noise})\n",
    "\n",
    "\n",
    "print data.shape\n",
    "#print data"
   ]
  },
  {
   "cell_type": "code",
   "execution_count": 83,
   "metadata": {
    "collapsed": false
   },
   "outputs": [
    {
     "name": "stdout",
     "output_type": "stream",
     "text": [
      "                            OLS Regression Results                            \n",
      "==============================================================================\n",
      "Dep. Variable:                      y   R-squared:                       0.931\n",
      "Model:                            OLS   Adj. R-squared:                  0.931\n",
      "Method:                 Least Squares   F-statistic:                     2667.\n",
      "Date:                Tue, 13 Oct 2015   Prob (F-statistic):          7.56e-117\n",
      "Time:                        12:09:37   Log-Likelihood:                -834.32\n",
      "No. Observations:                 200   AIC:                             1673.\n",
      "Df Residuals:                     198   BIC:                             1679.\n",
      "Df Model:                           1                                         \n",
      "Covariance Type:            nonrobust                                         \n",
      "==============================================================================\n",
      "                 coef    std err          t      P>|t|      [95.0% Conf. Int.]\n",
      "------------------------------------------------------------------------------\n",
      "Intercept      3.1987      2.221      1.440      0.151        -1.181     7.578\n",
      "x              1.9941      0.039     51.646      0.000         1.918     2.070\n",
      "==============================================================================\n",
      "Omnibus:                        2.756   Durbin-Watson:                   1.958\n",
      "Prob(Omnibus):                  0.252   Jarque-Bera (JB):                2.376\n",
      "Skew:                          -0.199   Prob(JB):                        0.305\n",
      "Kurtosis:                       3.356   Cond. No.                         115.\n",
      "==============================================================================\n",
      "\n",
      "Warnings:\n",
      "[1] Standard Errors assume that the covariance matrix of the errors is correctly specified.\n"
     ]
    }
   ],
   "source": [
    "model = smf.ols(formula = 'y ~ x', data = data).fit()\n",
    "print model.summary()"
   ]
  },
  {
   "cell_type": "code",
   "execution_count": null,
   "metadata": {
    "collapsed": true
   },
   "outputs": [],
   "source": []
  }
 ],
 "metadata": {
  "kernelspec": {
   "display_name": "Python 2",
   "language": "python",
   "name": "python2"
  },
  "language_info": {
   "codemirror_mode": {
    "name": "ipython",
    "version": 2
   },
   "file_extension": ".py",
   "mimetype": "text/x-python",
   "name": "python",
   "nbconvert_exporter": "python",
   "pygments_lexer": "ipython2",
   "version": "2.7.10"
  }
 },
 "nbformat": 4,
 "nbformat_minor": 0
}
