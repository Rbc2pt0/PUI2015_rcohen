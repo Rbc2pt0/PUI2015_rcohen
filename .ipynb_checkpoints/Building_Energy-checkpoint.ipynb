{
 "cells": [
  {
   "cell_type": "code",
   "execution_count": null,
   "metadata": {
    "collapsed": true
   },
   "outputs": [],
   "source": [
    "import geopandas as gp\n",
    "#data links through Fs webpage - use data from linked pages\n",
    "#using spatial data and linking multiple data sets - (geo)panda is very good for this\n",
    "\n",
    "#read in data from LL84 - using Manhattan buildings to keep data set small; import with pandas or geopandas\n",
    "\n",
    "#import data from nrg; then truncate to only first few columns\n",
    "#when you print, see that names are very long and have spaces; data is designed to look at, not to use for analysis\n"
   ]
  }
 ],
 "metadata": {
  "kernelspec": {
   "display_name": "Python 2",
   "language": "python",
   "name": "python2"
  },
  "language_info": {
   "codemirror_mode": {
    "name": "ipython",
    "version": 2
   },
   "file_extension": ".py",
   "mimetype": "text/x-python",
   "name": "python",
   "nbconvert_exporter": "python",
   "pygments_lexer": "ipython2",
   "version": "2.7.10"
  }
 },
 "nbformat": 4,
 "nbformat_minor": 0
}
