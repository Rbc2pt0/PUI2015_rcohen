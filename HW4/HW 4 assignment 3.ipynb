{
 "cells": [
  {
   "cell_type": "markdown",
   "metadata": {},
   "source": [
    "#Testing whether summer vs. winter riders can be modeled by the Guassian or Gamma distribution"
   ]
  },
  {
   "cell_type": "code",
   "execution_count": 32,
   "metadata": {
    "collapsed": false
   },
   "outputs": [
    {
     "name": "stdout",
     "output_type": "stream",
     "text": [
      "Populating the interactive namespace from numpy and matplotlib\n"
     ]
    },
    {
     "name": "stderr",
     "output_type": "stream",
     "text": [
      "WARNING: pylab import has clobbered these variables: ['winter', 'summer']\n",
      "`%matplotlib` prevents importing * from pylab and numpy\n"
     ]
    }
   ],
   "source": [
    "import pylab as pl\n",
    "import pandas as pd\n",
    "import numpy as np\n",
    "%pylab inline\n",
    "\n",
    "import os\n",
    "\n",
    "import scipy.stats"
   ]
  },
  {
   "cell_type": "markdown",
   "metadata": {},
   "source": [
    "Start by choosing \"seasons\" and reading in appropriate csv files. I named \"winter\" as Dec, 2014 - Feb, 2015 and \"summer\" as Jun - Aug, 2015."
   ]
  },
  {
   "cell_type": "code",
   "execution_count": 33,
   "metadata": {
    "collapsed": false
   },
   "outputs": [],
   "source": [
    "import requests, zipfile, StringIO\n",
    "\n",
    "r = requests.get('https://s3.amazonaws.com/tripdata/201412-citibike-tripdata.zip')\n",
    "z = zipfile.ZipFile(StringIO.StringIO(r.content))\n",
    "df_w1 = pd.read_csv(z.open('201412-citibike-tripdata.csv'))\n",
    "\n",
    "r = requests.get('https://s3.amazonaws.com/tripdata/201501-citibike-tripdata.zip')\n",
    "z = zipfile.ZipFile(StringIO.StringIO(r.content))\n",
    "df_w2 = pd.read_csv(z.open('201501-citibike-tripdata.csv'))\n",
    "\n",
    "r = requests.get('https://s3.amazonaws.com/tripdata/201502-citibike-tripdata.zip')\n",
    "z = zipfile.ZipFile(StringIO.StringIO(r.content))\n",
    "df_w3 = pd.read_csv(z.open('201502-citibike-tripdata.csv'))\n",
    "\n",
    "r = requests.get('https://s3.amazonaws.com/tripdata/201506-citibike-tripdata.zip')\n",
    "z = zipfile.ZipFile(StringIO.StringIO(r.content))\n",
    "df_s1 = pd.read_csv(z.open('201506-citibike-tripdata.csv'))\n",
    "\n",
    "r = requests.get('https://s3.amazonaws.com/tripdata/201507-citibike-tripdata.zip')\n",
    "z = zipfile.ZipFile(StringIO.StringIO(r.content))\n",
    "df_s2 = pd.read_csv(z.open('201507-citibike-tripdata.csv'))\n",
    "\n",
    "r = requests.get('https://s3.amazonaws.com/tripdata/201508-citibike-tripdata.zip')\n",
    "z = zipfile.ZipFile(StringIO.StringIO(r.content))\n",
    "df_s3 = pd.read_csv(z.open('201508-citibike-tripdata.csv'))\n"
   ]
  },
  {
   "cell_type": "markdown",
   "metadata": {},
   "source": [
    "by appending the second and third months onto the first month for each season, create master winter and summer dataframe files so that winter = Dec - Feb and summer = June - Aug"
   ]
  },
  {
   "cell_type": "code",
   "execution_count": 34,
   "metadata": {
    "collapsed": false
   },
   "outputs": [],
   "source": [
    "w = df_w1.append(df_w2)\n",
    "winter = w.append(df_w3)"
   ]
  },
  {
   "cell_type": "code",
   "execution_count": 35,
   "metadata": {
    "collapsed": false
   },
   "outputs": [],
   "source": [
    "s = df_s1.append(df_s2)\n",
    "summer = s.append(df_s3)"
   ]
  },
  {
   "cell_type": "markdown",
   "metadata": {},
   "source": [
    "then, for both summer and winter, find the age distributions and create histograms to illustrate"
   ]
  },
  {
   "cell_type": "code",
   "execution_count": 36,
   "metadata": {
    "collapsed": true
   },
   "outputs": [],
   "source": [
    "winter=winter[winter.usertype == 'Subscriber']\n",
    "winter['age'] = 2015-winter['birth year']"
   ]
  },
  {
   "cell_type": "code",
   "execution_count": 37,
   "metadata": {
    "collapsed": true
   },
   "outputs": [],
   "source": [
    "summer=summer[summer.usertype == 'Subscriber']\n",
    "summer['age'] = 2015-summer['birth year']"
   ]
  },
  {
   "cell_type": "code",
   "execution_count": 38,
   "metadata": {
    "collapsed": false
   },
   "outputs": [
    {
     "data": {
      "text/plain": [
       "<matplotlib.axes._subplots.AxesSubplot at 0x114a72ed0>"
      ]
     },
     "execution_count": 38,
     "metadata": {},
     "output_type": "execute_result"
    },
    {
     "data": {
      "image/png": "[encoded data removed]",
      "text/plain": [
       "<matplotlib.figure.Figure at 0x10cd0e810>"
      ]
     },
     "metadata": {},
     "output_type": "display_data"
    },
    {
     "data": {
      "image/png": "[encoded data removed]",
      "text/plain": [
       "<matplotlib.figure.Figure at 0x10e86e590>"
      ]
     },
     "metadata": {},
     "output_type": "display_data"
    }
   ],
   "source": [
    "bins = np.arange(10, 99, 10)\n",
    "winter.age.groupby(pd.cut(winter.age, bins)).agg([count_nonzero]).plot(kind='bar')\n",
    "summer.age.groupby(pd.cut(summer.age, bins)).agg([count_nonzero]).plot(kind='bar')"
   ]
  },
  {
   "cell_type": "markdown",
   "metadata": {},
   "source": [
    "Then, compare the summer and winter age distributions to the normal and gamma distributions using the KS test."
   ]
  },
  {
   "cell_type": "code",
   "execution_count": 39,
   "metadata": {
    "collapsed": false
   },
   "outputs": [
    {
     "name": "stdout",
     "output_type": "stream",
     "text": [
      "winter, normal fit (1.0, 0.0)\n",
      "summer, normal fit (1.0, 0.0)\n",
      "winter, gamma fit (1.0, 0.0)\n",
      "summer, gamma fit (1.0, 0.0)\n"
     ]
    }
   ],
   "source": [
    "#compare to normal\n",
    "W_age_dist = winter.age.groupby(pd.cut(winter.age, bins)).agg([count_nonzero])\n",
    "S_age_dist = summer.age.groupby(pd.cut(summer.age, bins)).agg([count_nonzero])\n",
    "\n",
    "ksW=scipy.stats.kstest(W_age_dist, 'norm')\n",
    "ksS=scipy.stats.kstest(S_age_dist, 'norm')\n",
    "print \"winter, normal fit\", ksW\n",
    "print \"summer, normal fit\", ksS\n",
    "\n",
    "#compare to gamma distribution\n",
    "\n",
    "ksW=scipy.stats.kstest(W_age_dist, 'gamma', args=(35,))\n",
    "ksS=scipy.stats.kstest(S_age_dist, 'gamma', args=(35,))\n",
    "print \"winter, gamma fit\", ksW\n",
    "print \"summer, gamma fit\", ksS"
   ]
  },
  {
   "cell_type": "markdown",
   "metadata": {},
   "source": [
    "The statistic of 1 with a p value of 0.0 shows that the winter and summer age distributions cannot be appropriately fit with a normal curve. This makes sense given the visuals above, which do not look normally distributed.\n",
    "\n",
    "The certainty of these results (ie p value of 0) does not seem to make sense, but I have compared with other students who got the same results with different samples, so this is the best I could do."
   ]
  },
  {
   "cell_type": "markdown",
   "metadata": {},
   "source": [
    "#then compare using the AD test"
   ]
  },
  {
   "cell_type": "code",
   "execution_count": 40,
   "metadata": {
    "collapsed": false
   },
   "outputs": [
    {
     "name": "stdout",
     "output_type": "stream",
     "text": [
      "(8415.0953397462144, array([ 0.576,  0.656,  0.787,  0.918,  1.092]), array([ 15. ,  10. ,   5. ,   2.5,   1. ]))\n",
      "(41623.785302417353, array([ 0.576,  0.656,  0.787,  0.918,  1.092]), array([ 15. ,  10. ,   5. ,   2.5,   1. ]))\n"
     ]
    }
   ],
   "source": [
    "wintertime = winter.age[~np.isnan(winter.age)]\n",
    "AdW = scipy.stats.anderson(wintertime, 'norm')\n",
    "\n",
    "summertime = summer.age[~np.isnan(summer.age)]\n",
    "AdS = scipy.stats.anderson(summertime, 'norm')\n",
    "\n",
    "print AdW\n",
    "print AdS"
   ]
  },
  {
   "cell_type": "markdown",
   "metadata": {},
   "source": [
    "The very large AD stat values for both distributions are much larger than any value we could compare them to in the AD critical array. This means that we can reject the null and say, at a 0.05 certainty level (and with even greater certainty if needed), that the winter and summer age samples do not come from a normal distribution, confirming the results above.\n",
    "\n",
    "As above, the certainty of these results does not seem to make sense, but I have compared with other students who got the same results with the same code"
   ]
  },
  {
   "cell_type": "markdown",
   "metadata": {
    "collapsed": true
   },
   "source": [
    "#Now repeating the test for all riders from this time period"
   ]
  },
  {
   "cell_type": "markdown",
   "metadata": {},
   "source": [
    "first create a data set including both winter and summer"
   ]
  },
  {
   "cell_type": "code",
   "execution_count": 41,
   "metadata": {
    "collapsed": false
   },
   "outputs": [],
   "source": [
    "alltime = winter.append(summer)\n",
    "#print alltime"
   ]
  },
  {
   "cell_type": "code",
   "execution_count": 42,
   "metadata": {
    "collapsed": true
   },
   "outputs": [],
   "source": [
    "alltime=alltime[alltime.usertype == 'Subscriber']\n",
    "alltime['age'] = 2015-alltime['birth year']"
   ]
  },
  {
   "cell_type": "code",
   "execution_count": 43,
   "metadata": {
    "collapsed": false
   },
   "outputs": [
    {
     "data": {
      "text/plain": [
       "<matplotlib.axes._subplots.AxesSubplot at 0x1103b3fd0>"
      ]
     },
     "execution_count": 43,
     "metadata": {},
     "output_type": "execute_result"
    },
    {
     "data": {
      "image/png": "[encoded data removed]",
      "text/plain": [
       "<matplotlib.figure.Figure at 0x10e84f810>"
      ]
     },
     "metadata": {},
     "output_type": "display_data"
    }
   ],
   "source": [
    "bins = np.arange(10, 99, 10)\n",
    "alltime.age.groupby(pd.cut(alltime.age, bins)).agg([count_nonzero]).plot(kind='bar')"
   ]
  },
  {
   "cell_type": "code",
   "execution_count": 44,
   "metadata": {
    "collapsed": false
   },
   "outputs": [
    {
     "name": "stdout",
     "output_type": "stream",
     "text": [
      "all, normal fit (1.0, 0.0)\n",
      "all, gamma fit (1.0, 0.0)\n"
     ]
    }
   ],
   "source": [
    "#compare to normal\n",
    "all_age_dist = alltime.age.groupby(pd.cut(alltime.age, bins)).agg([count_nonzero])\n",
    "\n",
    "ksA=scipy.stats.kstest(all_age_dist, 'norm')\n",
    "print \"all, normal fit\", ksA\n",
    "\n",
    "#compare to gamma distribution\n",
    "\n",
    "ksA=scipy.stats.kstest(all_age_dist, 'gamma', args=(35,))\n",
    "print \"all, gamma fit\", ksA"
   ]
  },
  {
   "cell_type": "markdown",
   "metadata": {},
   "source": [
    "As with the tests above for the seasons separately, the KS test for seasons together yields a statistic of 1 with a p value of 0.0, showing that the all-seaon age distribution cannot be appropriately fit with a normal curve. This makes sense given the visuals above, which do not look normally distributed."
   ]
  },
  {
   "cell_type": "code",
   "execution_count": 45,
   "metadata": {
    "collapsed": false
   },
   "outputs": [
    {
     "name": "stdout",
     "output_type": "stream",
     "text": [
      "(49695.81032711966, array([ 0.576,  0.656,  0.787,  0.918,  1.092]), array([ 15. ,  10. ,   5. ,   2.5,   1. ]))\n"
     ]
    }
   ],
   "source": [
    "alltime = alltime.age[~np.isnan(alltime.age)]\n",
    "AdA = scipy.stats.anderson(alltime, 'norm')\n",
    "\n",
    "print AdA"
   ]
  },
  {
   "cell_type": "markdown",
   "metadata": {},
   "source": [
    "Again, the results of the AD test are consistent with the results of the KS test, both showing that the data cannot be appropriately fit to the normal curve."
   ]
  }
 ],
 "metadata": {
  "kernelspec": {
   "display_name": "Python 2",
   "language": "python",
   "name": "python2"
  },
  "language_info": {
   "codemirror_mode": {
    "name": "ipython",
    "version": 2
   },
   "file_extension": ".py",
   "mimetype": "text/x-python",
   "name": "python",
   "nbconvert_exporter": "python",
   "pygments_lexer": "ipython2",
   "version": "2.7.10"
  }
 },
 "nbformat": 4,
 "nbformat_minor": 0
}
