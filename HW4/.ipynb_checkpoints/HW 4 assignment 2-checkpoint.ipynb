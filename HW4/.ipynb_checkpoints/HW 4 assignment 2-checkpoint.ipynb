{
 "cells": [
  {
   "cell_type": "code",
   "execution_count": 15,
   "metadata": {
    "collapsed": false
   },
   "outputs": [
    {
     "name": "stdout",
     "output_type": "stream",
     "text": [
      "Populating the interactive namespace from numpy and matplotlib\n"
     ]
    },
    {
     "name": "stderr",
     "output_type": "stream",
     "text": [
      "WARNING: pylab import has clobbered these variables: ['dist']\n",
      "`%matplotlib` prevents importing * from pylab and numpy\n"
     ]
    }
   ],
   "source": [
    "import pylab as pl\n",
    "import pandas as pd\n",
    "import numpy as np\n",
    "%pylab inline\n",
    "\n",
    "import os\n",
    "\n",
    "import scipy.stats"
   ]
  },
  {
   "cell_type": "markdown",
   "metadata": {},
   "source": [
    "#Starting the KS and AD Tests"
   ]
  },
  {
   "cell_type": "code",
   "execution_count": 16,
   "metadata": {
    "collapsed": false,
    "scrolled": true
   },
   "outputs": [
    {
     "name": "stdout",
     "output_type": "stream",
     "text": [
      "KS normal on normal (0.022668883578841559, 0.68302778949067866)\n",
      "AD normal on normal (0.38921923206294196, array([ 0.574,  0.653,  0.784,  0.914,  1.088]), array([ 15. ,  10. ,   5. ,   2.5,   1. ]))\n",
      "\n",
      "binomial on normal (0.5, 0.0)\n",
      "bionmial on normal (179.53747488153613, array([ 0.574,  0.653,  0.784,  0.914,  1.088]), array([ 15. ,  10. ,   5. ,   2.5,   1. ]))\n",
      "threshold [ 1.088]\n"
     ]
    }
   ],
   "source": [
    "#generate the distribution\n",
    "dist_n = np.random.randn(1000)\n",
    "\n",
    "#test ad and ks. those are easy\n",
    "print \"KS normal on normal\", scipy.stats.kstest(dist_n,'norm')\n",
    "print \"AD normal on normal\", scipy.stats.anderson(dist_n, dist='norm')\n",
    "print \"\" \n",
    "\n",
    "dist_b = np.random.binomial(1, 0.5, 1000)\n",
    "\n",
    "print \"binomial on normal\", scipy.stats.kstest(dist_b,'norm')\n",
    "print \"bionmial on normal\", scipy.stats.anderson(dist_b, dist='norm')\n",
    "\n",
    "threshold = scipy.stats.anderson(dist_n, dist='norm')[1][scipy.stats.anderson(dist_n, dist='norm')[2]==[1.0]]\n",
    "print \"threshold\", threshold"
   ]
  },
  {
   "cell_type": "markdown",
   "metadata": {},
   "source": [
    "For the first KS test, the null hypothesis is that the two distributions being compared are the same, or that the random sample is drawn from a normal distribution. The low KS value and corresponding high P value mean thattThe first KS test shows that a random sample of 1000 values drawn from a normal distribution is likely to be normally distributed, which makes sense. We cannot reject the null.\n",
    "\n",
    "For the AD test, the null hypothesis is that the sample is drawn from the comparison distribution. Since the AD stat is less than the critical value (.361 < .784) at a 5% alpha level, we cannot reject the null - it is possible that the random sample is drawn from a normal distribution.\n",
    "\n",
    "The reverse case is true for the second set of tests - again this is logical since a random sample drawn from a binomial distribution need not be normally distributed. In the second KS test, the p value of 0 allows us to reject the null that the binomial and normal distributions have the same underlying distribution; the second AD test yields a very large AD stat (larger than the AD critical value at any confidence level listed), so we can reject the null that the binomial data set is drawn from a neutral distribution.\n",
    "\n",
    " \n"
   ]
  },
  {
   "cell_type": "markdown",
   "metadata": {},
   "source": [
    "#starting the KL test here"
   ]
  },
  {
   "cell_type": "code",
   "execution_count": 17,
   "metadata": {
    "collapsed": true
   },
   "outputs": [],
   "source": [
    "distpdf_n, mybins_n, = np.histogram(dist_n, density=True)\n",
    "distpdf_b, mybins_b, = np.histogram(dist_b, density=True)"
   ]
  },
  {
   "cell_type": "code",
   "execution_count": 18,
   "metadata": {
    "collapsed": false
   },
   "outputs": [
    {
     "name": "stdout",
     "output_type": "stream",
     "text": [
      "KL normal on normal 0.00347318823821\n",
      "KL binomial on normal 1.68378761755\n"
     ]
    }
   ],
   "source": [
    "bincenters_n = mybins_n[:-1] + 0.5*(mybins_n[1] - mybins_n[0])\n",
    "bincenters_b = mybins_b[:-1] + 0.5*(mybins_b[1] - mybins_b[0])\n",
    "print \"KL normal on normal\", scipy.stats.entropy(distpdf_n, scipy.stats.norm.pdf(bincenters_n))  \n",
    "print \"KL binomial on normal\", scipy.stats.entropy(distpdf_b, scipy.stats.norm.pdf(bincenters_b)) "
   ]
  },
  {
   "cell_type": "markdown",
   "metadata": {},
   "source": [
    "For the KL test, the low stat for normal on normal means that there is low \"entropy\" or distance between the the two tested distributions. In that case we fail to reject the null hypothesis that the two tested samples come from the same underlying distribution.\n",
    "\n",
    "In contrast, and again following logic, the high entropy stat for binomial on normal means that the two samples in that test are not from the same underlying distribution. For binomial on normal, we can reject the null hypothesis."
   ]
  },
  {
   "cell_type": "code",
   "execution_count": 19,
   "metadata": {
    "collapsed": false
   },
   "outputs": [],
   "source": [
    "narray = range(1,50,1)\n",
    "ks_b = np.zeros(len(narray))\n",
    "ad_b = np.zeros(len(narray))\n",
    "kl_b = np.zeros(len(narray))\n",
    "chi2_b = np.zeros(len(narray))"
   ]
  },
  {
   "cell_type": "code",
   "execution_count": 20,
   "metadata": {
    "collapsed": true
   },
   "outputs": [],
   "source": [
    "def mynorm (x, mu, var):\n",
    "    return scipy.stats.norm.cdf(x, loc=mu, scale=var)"
   ]
  },
  {
   "cell_type": "code",
   "execution_count": 21,
   "metadata": {
    "collapsed": false
   },
   "outputs": [
    {
     "name": "stdout",
     "output_type": "stream",
     "text": [
      "KS test stat for binomial on normal 0.213398763256\n",
      "AD test stat for binomial on normal 10.1970712284\n",
      "KL test stat for binomial on normal 0.252918359372\n"
     ]
    }
   ],
   "source": [
    "for i,n in enumerate(narray):\n",
    "    p=0.1 \n",
    "    dist = np.random.binomial(n, p, 1000)\n",
    " \n",
    "    #the KS and AD tests for the binomial on normal distribution\n",
    "    ks_b[i] = scipy.stats.kstest(dist, mynorm, args=(n*p, n*p*(1.0-p)))[0]\n",
    "    ad_b[i] = scipy.stats.anderson(dist, dist='norm')[0]\n",
    "    \n",
    "    mybins=np.linspace(min(dist),max(dist), 10) \n",
    "    bincenters = mybins[:-1]+0.5*(mybins[1]-mybins[0])\n",
    "    \n",
    "    #the KL test for binomial on normal\n",
    "    kl_b [i] =  scipy.stats.entropy(np.histogram(dist, bins=mybins)[0], scipy.stats.norm.pdf(bincenters, loc=n*p, scale=n*p*(1.0-p)))\n",
    "    \n",
    "print \"KS test stat for binomial on normal\", ks_b[i]\n",
    "print \"AD test stat for binomial on normal\", ad_b[i]\n",
    "print \"KL test stat for binomial on normal\", kl_b[i]"
   ]
  },
  {
   "cell_type": "code",
   "execution_count": 22,
   "metadata": {
    "collapsed": false,
    "scrolled": true
   },
   "outputs": [
    {
     "data": {
      "text/plain": [
       "<matplotlib.legend.Legend at 0x109553890>"
      ]
     },
     "execution_count": 22,
     "metadata": {},
     "output_type": "execute_result"
    },
    {
     "data": {
      "image/png": "[encoded data removed]",
      "text/plain": [
       "<matplotlib.figure.Figure at 0x10383dc10>"
      ]
     },
     "metadata": {},
     "output_type": "display_data"
    }
   ],
   "source": [
    "fig = pl.figure(figsize = (15,5))\n",
    "fig.add_subplot(131)\n",
    "pl.plot(narray, ks_b, label='KS')\n",
    "pl.legend()\n",
    "\n",
    "fig.add_subplot(132)\n",
    "pl.plot(narray, ad_b,  label='AD')\n",
    "pl.plot([narray[0], narray[-1]],[threshold, threshold])\n",
    "pl.plot()\n",
    "pl.plot()\n",
    "pl.legend()\n",
    "\n",
    "fig.add_subplot(133)\n",
    "pl.plot(narray, kl_b, label='K-L ')\n",
    "\n",
    "pl.legend()"
   ]
  },
  {
   "cell_type": "markdown",
   "metadata": {},
   "source": [
    "Caption: the charts above show the results of three common statistical tests for divergence - the KS, AD, and KL tests - as observed in testing the fit of a random sample of numbers drawn from a binomial distribution and compared to a normal distribution. These plots all show the same general theory of statistics: as the sample size grows, the distribution of the sample becomes increasingly similar to the normal distribution, even if the samples themselves are drawn from a non-normal distribution. "
   ]
  },
  {
   "cell_type": "markdown",
   "metadata": {},
   "source": [
    "#Poissoin on normal"
   ]
  },
  {
   "cell_type": "code",
   "execution_count": 23,
   "metadata": {
    "collapsed": true
   },
   "outputs": [],
   "source": [
    "narray = range(1,50,1)\n",
    "ks_b = np.zeros(len(narray))\n",
    "ad_b = np.zeros(len(narray))\n",
    "kl_b = np.zeros(len(narray))\n",
    "chi2_b = np.zeros(len(narray))"
   ]
  },
  {
   "cell_type": "code",
   "execution_count": 24,
   "metadata": {
    "collapsed": true
   },
   "outputs": [],
   "source": [
    "for i,n in enumerate(narray):\n",
    "    p=0.1 \n",
    "    dist = np.random.poisson(n, 1000)\n",
    "\n",
    "    ks_b[i] = scipy.stats.kstest(dist, mynorm, args=(n, n))[0]\n",
    "    ad_b[i] = scipy.stats.anderson(dist, dist='norm')[0]\n",
    "    \n",
    "    mybins = np.linspace(min(dist),max(dist), 10) \n",
    "    bincenters = mybins[:-1]+0.5*(mybins[1]-mybins[0])\n",
    " \n",
    "    kl_b [i] =  scipy.stats.entropy(np.histogram(dist, bins=mybins)[0], scipy.stats.norm.pdf(bincenters, loc=n*p, scale=n*p*(1.0-p)))"
   ]
  },
  {
   "cell_type": "code",
   "execution_count": 25,
   "metadata": {
    "collapsed": false
   },
   "outputs": [
    {
     "name": "stdout",
     "output_type": "stream",
     "text": [
      "Poisson on normal 0.366755708038\n",
      "Poisson on normal 1.0251596392\n",
      "Poisson on normal 30.323919355\n"
     ]
    }
   ],
   "source": [
    "print \"Poisson on normal\", ks_b[i]\n",
    "print \"Poisson on normal\", ad_b[i]\n",
    "print \"Poisson on normal\", kl_b[i]"
   ]
  },
  {
   "cell_type": "code",
   "execution_count": 26,
   "metadata": {
    "collapsed": false
   },
   "outputs": [
    {
     "data": {
      "text/plain": [
       "<matplotlib.legend.Legend at 0x109a531d0>"
      ]
     },
     "execution_count": 26,
     "metadata": {},
     "output_type": "execute_result"
    },
    {
     "data": {
      "image/png": "[encoded data removed]",
      "text/plain": [
       "<matplotlib.figure.Figure at 0x103f97190>"
      ]
     },
     "metadata": {},
     "output_type": "display_data"
    }
   ],
   "source": [
    "fig = pl.figure(figsize = (15,5))\n",
    "fig.add_subplot(131)\n",
    "pl.plot(narray, ks_b, label='KS')\n",
    "pl.legend()\n",
    "\n",
    "fig.add_subplot(132)\n",
    "pl.plot(narray, ad_b,  label='AD')\n",
    "pl.plot([narray[0], narray[-1]],[threshold, threshold])\n",
    "pl.plot()\n",
    "pl.plot()\n",
    "pl.legend()\n",
    "\n",
    "fig.add_subplot(133)\n",
    "pl.plot(narray, kl_b, label='K-L ')\n",
    "\n",
    "pl.legend()"
   ]
  },
  {
   "cell_type": "markdown",
   "metadata": {
    "collapsed": true
   },
   "source": [
    "Caption: as with the charts above, these three charts show the results of three common statistical tests for divergence. In this case, the samples are drawn from a Poission distribution. The same general theory applies: as an increasing number of samples are drawn, the distribution of the samples approaches normality, despite the fact that the samples are drawn from a non-normal distribution. "
   ]
  }
 ],
 "metadata": {
  "kernelspec": {
   "display_name": "Python 2",
   "language": "python",
   "name": "python2"
  },
  "language_info": {
   "codemirror_mode": {
    "name": "ipython",
    "version": 2
   },
   "file_extension": ".py",
   "mimetype": "text/x-python",
   "name": "python",
   "nbconvert_exporter": "python",
   "pygments_lexer": "ipython2",
   "version": "2.7.10"
  }
 },
 "nbformat": 4,
 "nbformat_minor": 0
}
