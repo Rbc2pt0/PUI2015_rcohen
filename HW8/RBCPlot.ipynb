{
 "cells": [
  {
   "cell_type": "code",
   "execution_count": 3,
   "metadata": {
    "collapsed": false
   },
   "outputs": [
    {
     "name": "stdout",
     "output_type": "stream",
     "text": [
      "Populating the interactive namespace from numpy and matplotlib\n"
     ]
    }
   ],
   "source": [
    "import geopandas as gp\n",
    "import pandas as pd\n",
    "import urllib2\n",
    "import os\n",
    "import json\n",
    "import pylab as pl\n",
    "import numpy as np\n",
    "\n",
    "%pylab inline"
   ]
  },
  {
   "cell_type": "code",
   "execution_count": 4,
   "metadata": {
    "collapsed": false
   },
   "outputs": [],
   "source": [
    "url = 'https://data.cityofnewyork.us/api/views/rgfe-8y2z/rows.csv?accessType=DOWNLOAD'\n",
    "response = urllib2.urlopen(url)\n",
    "data = gp.GeoDataFrame.from_csv(response)\n",
    "#print data.columns"
   ]
  },
  {
   "cell_type": "code",
   "execution_count": 5,
   "metadata": {
    "collapsed": false
   },
   "outputs": [],
   "source": [
    "#print data['Borough']\n",
    "#print data['Direct GHG Emissions(MtCO2e)'].head\n",
    "#print len(data)\n",
    "#print data.shape"
   ]
  },
  {
   "cell_type": "code",
   "execution_count": 6,
   "metadata": {
    "collapsed": false
   },
   "outputs": [],
   "source": [
    "data.columns = ['BBL', 'BBL_status', 'Co_reported', 'BINs', 'Number', 'Street', 'Borough', 'Zip', 'Benchmark_status', 'EUI', 'Weather_EUI','Source_EUI','Weather_Source_EUI', 'Water', 'Water2', 'Water3', 'Energy_Star', 'GHG_total', 'GHG_direct', 'GHG_indirect', 'Floor_area', 'Total_floor_area', 'Prop_type', 'Number_buildings']\n",
    "#print data.columns"
   ]
  },
  {
   "cell_type": "code",
   "execution_count": 7,
   "metadata": {
    "collapsed": true
   },
   "outputs": [],
   "source": [
    "def canconvert(mydata):\n",
    "    try :\n",
    "        float(mydata)\n",
    "        return True\n",
    "    except ValueError:\n",
    "        return False\n",
    "\n",
    "convert = np.vectorize(canconvert)"
   ]
  },
  {
   "cell_type": "code",
   "execution_count": 8,
   "metadata": {
    "collapsed": false
   },
   "outputs": [
    {
     "name": "stderr",
     "output_type": "stream",
     "text": [
      "/Users/rachelcohen/anaconda/lib/python2.7/site-packages/IPython/kernel/__main__.py:2: SettingWithCopyWarning: \n",
      "A value is trying to be set on a copy of a slice from a DataFrame\n",
      "\n",
      "See the the caveats in the documentation: http://pandas.pydata.org/pandas-docs/stable/indexing.html#indexing-view-versus-copy\n",
      "  from IPython.kernel.zmq import kernelapp as app\n"
     ]
    }
   ],
   "source": [
    "index_GHG = convert(data['GHG_direct'])\n",
    "data['GHG_direct'][~index_GHG] = float('NaN')\n",
    "data['GHG_direct'] = [float(x) for x in data['GHG_direct']]\n",
    "\n",
    "#print data['GHG_direct']"
   ]
  },
  {
   "cell_type": "code",
   "execution_count": 9,
   "metadata": {
    "collapsed": false
   },
   "outputs": [],
   "source": [
    "GHG = data.GHG_direct\n",
    "#pl.plot(GHG)"
   ]
  },
  {
   "cell_type": "code",
   "execution_count": 10,
   "metadata": {
    "collapsed": false
   },
   "outputs": [],
   "source": [
    "array = (data['BBL'].groupby(data['Borough']).count())\n",
    "#print array\n",
    "\n",
    "array2 = (data['GHG_direct'].groupby(data['Borough']).sum())\n",
    "#print array2"
   ]
  },
  {
   "cell_type": "code",
   "execution_count": 11,
   "metadata": {
    "collapsed": false
   },
   "outputs": [],
   "source": [
    "import statsmodels.formula.api as smf\n",
    "d = {'building': array, 'ghg': array2}\n",
    "ols = smf.ols(formula='ghg ~ building', data = d).fit()\n",
    "#ols.summary()"
   ]
  },
  {
   "cell_type": "code",
   "execution_count": 12,
   "metadata": {
    "collapsed": false
   },
   "outputs": [
    {
     "data": {
      "text/plain": [
       "412991.7"
      ]
     },
     "execution_count": 12,
     "metadata": {},
     "output_type": "execute_result"
    }
   ],
   "source": [
    "def reg(i):\n",
    "    return 423.0837*i - 10092\n",
    "\n",
    "reg(1000)"
   ]
  },
  {
   "cell_type": "code",
   "execution_count": 13,
   "metadata": {
    "collapsed": false
   },
   "outputs": [
    {
     "name": "stdout",
     "output_type": "stream",
     "text": [
      "(2741, 1227238.5000000007)\n"
     ]
    }
   ],
   "source": [
    "x = array\n",
    "y = array2\n",
    "print (x[0],y[0])"
   ]
  },
  {
   "cell_type": "code",
   "execution_count": 14,
   "metadata": {
    "collapsed": false
   },
   "outputs": [],
   "source": [
    "def reg(i):\n",
    "    return 423.0837*i - 100092\n",
    "\n",
    "#reg(1000)\n",
    "#pl.scatter(5,reg(5))"
   ]
  },
  {
   "cell_type": "code",
   "execution_count": 15,
   "metadata": {
    "collapsed": false
   },
   "outputs": [],
   "source": [
    "p = np.arange(0, 7000, dtype=np.float)"
   ]
  },
  {
   "cell_type": "code",
   "execution_count": 16,
   "metadata": {
    "collapsed": false
   },
   "outputs": [
    {
     "data": {
      "text/plain": [
       "<matplotlib.legend.Legend at 0x10d04ba10>"
      ]
     },
     "execution_count": 16,
     "metadata": {},
     "output_type": "execute_result"
    },
    {
     "data": {
      "image/png": "[encoded data removed]",
      "text/plain": [
       "<matplotlib.figure.Figure at 0x10485de90>"
      ]
     },
     "metadata": {},
     "output_type": "display_data"
    }
   ],
   "source": [
    "pl.figure(figsize=(8,8))\n",
    "pl.plot(x[0],y[0], 'o', ms = 15, color = '#7F180D', label = 'Bronx')\n",
    "pl.plot(x[1],y[1], 'o', ms = 25, color = '#803E75', label = 'Brooklyn')\n",
    "pl.plot(x[2],y[2], 'o', ms = 15, color = '#FFB300', label = 'Manhattan')\n",
    "pl.plot(x[3],y[3], 'o', ms = 25, color = '#FF6800', label = 'Queens')\n",
    "pl.plot(x[4],y[4], 'o', ms = 5, color = '#232C16', label = 'Staten Island\\n (Dot size relects\\n borough population)')\n",
    "pl.plot(p,reg(p), '--', color = 'Black', label = 'Predicted GHGs')\n",
    "\n",
    "pl.grid()\n",
    "pl.xticks(range(0,7000,1000))\n",
    "pl.xlabel('Buildings Reporting')\n",
    "pl.ylabel('Direct GHG Emissions')\n",
    "pl.title('Does Building GHG Intensity Vary By Borough?')\n",
    "pl.xlim(0)\n",
    "pl.ylim(0)\n",
    "pl.legend(bbox_to_anchor=(1.5, 1))"
   ]
  },
  {
   "cell_type": "code",
   "execution_count": null,
   "metadata": {
    "collapsed": true
   },
   "outputs": [],
   "source": []
  }
 ],
 "metadata": {
  "kernelspec": {
   "display_name": "Python 2",
   "language": "python",
   "name": "python2"
  },
  "language_info": {
   "codemirror_mode": {
    "name": "ipython",
    "version": 2
   },
   "file_extension": ".py",
   "mimetype": "text/x-python",
   "name": "python",
   "nbconvert_exporter": "python",
   "pygments_lexer": "ipython2",
   "version": "2.7.10"
  }
 },
 "nbformat": 4,
 "nbformat_minor": 0
}
