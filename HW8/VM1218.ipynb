{
 "cells": [
  {
   "cell_type": "markdown",
   "metadata": {},
   "source": [
    "Esthetically, I find this series of visualizations very pleasing – and impressive! There is clearly a lot of information being displayed, and the use of a series of plots rather than attempting to combine everything onto 1-2 plots makes sense. The color schemes are each relatively simple, which helps with clarity. \n",
    "\n",
    "However, overall there is far too much complexity and layering of information to make these plots accessible to a non-expert reader. I am not sure how to relate the plots to one another or follow from one to the next, and the fact that each plot uses a different labeling scheme adds to this confusion. To improve specific plots within this series, the maps in the upper-left quadrant need legends, and the middle-right plot (building communities) has a misleading x-axis; stretching the axis to only cover the time for which there is meaningful data would improve clarity greatly.\n",
    "\n",
    "The captions are helpful in guiding the reader and putting each plot in context, but as an overall story I find this very challenging. I am also confused about how this relates to the data studied in class, so it is difficult to evaluate, especially for honesty.\n"
   ]
  }
 ],
 "metadata": {
  "kernelspec": {
   "display_name": "Python 2",
   "language": "python",
   "name": "python2"
  },
  "language_info": {
   "codemirror_mode": {
    "name": "ipython",
    "version": 2
   },
   "file_extension": ".py",
   "mimetype": "text/x-python",
   "name": "python",
   "nbconvert_exporter": "python",
   "pygments_lexer": "ipython2",
   "version": "2.7.10"
  }
 },
 "nbformat": 4,
 "nbformat_minor": 0
}
