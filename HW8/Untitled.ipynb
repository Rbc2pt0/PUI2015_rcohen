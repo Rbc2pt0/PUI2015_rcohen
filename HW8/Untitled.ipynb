{
 "cells": [
  {
   "cell_type": "markdown",
   "metadata": {},
   "source": [
    "Visually, this chart is clear \\'96 the color scheme is simple, the legend is clear and well-placed, the axes are clear and labeled. Similarly, it is aesthetically pleasing \\'96 the eyes are clearly drawn to the 2 trend lines and there are few distractions. It is easy to see the contrast between the Manhattan and Brooklyn trends. One clarity improvement would be the title. The current title does not help convey what (I think) the plot is really trying to communicate, which is the relationship between residential housing units and Citibike trips in NYC zip codes, for Brooklyn and Manhattan.\\\n",
    "\\\n",
    "However, I have trouble with honesty on this plot. The choice not to remove the Manhattan outlier (lower right corner) distorts the Manhattan trend line drastically, and makes it appear very poorly fit to the data, so that the \\'93story\\'94 of what is happening in Manhattan is difficult to follow. It is also not clear how the boroughs compare since the data sets are of such different sizes. A more descriptive title, and some (justified) data cleaning seem necessary to allow the reader to understand what the data in this plot conveys.}"
   ]
  },
  {
   "cell_type": "code",
   "execution_count": null,
   "metadata": {
    "collapsed": true
   },
   "outputs": [],
   "source": []
  }
 ],
 "metadata": {
  "kernelspec": {
   "display_name": "Python 2",
   "language": "python",
   "name": "python2"
  },
  "language_info": {
   "codemirror_mode": {
    "name": "ipython",
    "version": 2
   },
   "file_extension": ".py",
   "mimetype": "text/x-python",
   "name": "python",
   "nbconvert_exporter": "python",
   "pygments_lexer": "ipython2",
   "version": "2.7.10"
  }
 },
 "nbformat": 4,
 "nbformat_minor": 0
}
