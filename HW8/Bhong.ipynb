{
 "cells": [
  {
   "cell_type": "markdown",
   "metadata": {},
   "source": [
    "This plot is very clear – the use of the common box-and-whisker format eliminates extraneous data and chart junk. Esthetically, the plot is very functional – it uses a well-known format to convey one key piece of info (distance to facility) and makes a clear comparison across six data points (boroughs and the NYC average). The color scheme is clear and simple, and makes the plot easy to read. The use of major but not minor gridlines is helpful, and the scaling of the y-axis is true, so that the plot appears honest. Together, all these features make the plot simple but easy to read, and effectively communicate the variance among boroughs for this data point.\n",
    "\n",
    "In terms of honesty, it is difficult to judge since there are no units on the Y axis. This makes it difficult to know whether the inter-borough differences are meaningful, so the chart would be greatly improved by the inclusion of this unit measure. The plot is also missing a title, which might further help drive home the main point/points and put the findings in context. With these small tweaks, the plot could be very effective.\n"
   ]
  }
 ],
 "metadata": {
  "kernelspec": {
   "display_name": "Python 2",
   "language": "python",
   "name": "python2"
  },
  "language_info": {
   "codemirror_mode": {
    "name": "ipython",
    "version": 2
   },
   "file_extension": ".py",
   "mimetype": "text/x-python",
   "name": "python",
   "nbconvert_exporter": "python",
   "pygments_lexer": "ipython2",
   "version": "2.7.10"
  }
 },
 "nbformat": 4,
 "nbformat_minor": 0
}
